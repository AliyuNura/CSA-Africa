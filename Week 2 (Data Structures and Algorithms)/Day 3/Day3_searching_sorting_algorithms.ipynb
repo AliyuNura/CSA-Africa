{
 "cells": [
  {
   "cell_type": "markdown",
   "metadata": {
    "slideshow": {
     "slide_type": "slide"
    }
   },
   "source": [
    "# Day 3: Searching and sorting algorithms\n",
    "\n",
    "In this tutorial, we'll cover:\n",
    "- searching, using linear and binary searching algorithms; and\n",
    "- sorting, using bubble, quick, and counting sort."
   ]
  },
  {
   "cell_type": "markdown",
   "metadata": {
    "slideshow": {
     "slide_type": "slide"
    }
   },
   "source": [
    "## Outline\n",
    "\n",
    "In this lecture, we will study two important problems in computer science and the existing algorithms for tackling these problems:\n",
    "\n",
    "* Searching: linear search and binary search;\n",
    "* Sorting: bubble sort, quick sort and counting sort.\n",
    "\n",
    "In addition, we will analyse the time complexity of the above algorithms."
   ]
  },
  {
   "cell_type": "markdown",
   "metadata": {
    "slideshow": {
     "slide_type": "slide"
    }
   },
   "source": [
    "## Searching\n",
    "\n",
    "The problem in searching is to, given a list of values and a target value, to determine if the target value is in the list, and, if it is, which position it is in the list."
   ]
  },
  {
   "cell_type": "markdown",
   "metadata": {
    "slideshow": {
     "slide_type": "slide"
    }
   },
   "source": [
    "<br>\n",
    "\n",
    "### Linear Search\n",
    "<img src=\"imgs/lsearch.jpg\" width=70%>"
   ]
  },
  {
   "cell_type": "code",
   "execution_count": 3,
   "metadata": {
    "ExecuteTime": {
     "end_time": "2020-12-31T21:14:47.369760Z",
     "start_time": "2020-12-31T21:14:47.349825Z"
    },
    "slideshow": {
     "slide_type": "slide"
    }
   },
   "outputs": [
    {
     "data": {
      "text/plain": [
       "6"
      ]
     },
     "execution_count": 3,
     "metadata": {},
     "output_type": "execute_result"
    }
   ],
   "source": [
    "# is the value 10 in the list?\n",
    "# what position is it stored?\n",
    "lst = [2,3,5,6,7,9,10]\n",
    "\n",
    "def linear_search(lst, val):\n",
    "    # go through each element in the list \n",
    "    # and compare it with the target value\n",
    "    for idx, elt in enumerate(lst):\n",
    "        if elt == val:\n",
    "            return idx\n",
    "    return -1\n",
    "\n",
    "linear_search(lst, 10)"
   ]
  },
  {
   "cell_type": "markdown",
   "metadata": {
    "ExecuteTime": {
     "end_time": "2020-12-31T19:22:06.314438Z",
     "start_time": "2020-12-31T19:22:06.278876Z"
    },
    "slideshow": {
     "slide_type": "slide"
    }
   },
   "source": [
    "### Time complexity of linear search\n",
    "\n",
    "* worst case, for loop goes through all the values in the list;\n",
    "* everything within the for loop runs in constant time;\n",
    "* time complexity is $O(n)$."
   ]
  },
  {
   "cell_type": "markdown",
   "metadata": {
    "slideshow": {
     "slide_type": "slide"
    }
   },
   "source": [
    "### Binary Search\n",
    "\n",
    "\n",
    "<img src=\"imgs/bsearch.jpg\" width=70%>"
   ]
  },
  {
   "cell_type": "code",
   "execution_count": 4,
   "metadata": {
    "ExecuteTime": {
     "end_time": "2020-12-31T21:19:25.555175Z",
     "start_time": "2020-12-31T21:19:25.535415Z"
    },
    "slideshow": {
     "slide_type": "slide"
    }
   },
   "outputs": [
    {
     "data": {
      "text/plain": [
       "6"
      ]
     },
     "execution_count": 4,
     "metadata": {},
     "output_type": "execute_result"
    }
   ],
   "source": [
    "# this search algorithm requires a sorted list\n",
    "# it works by splitting the list in two at each iteration\n",
    "\n",
    "def binary_search(lst, val):\n",
    "    lower, upper = 0, len(lst)-1   \n",
    "    # continue as long as list is non-empty\n",
    "    while lower <= upper:\n",
    "        middle = (lower + upper) // 2\n",
    "        \n",
    "        # if target element is in the middle, return it\n",
    "        if lst[middle] == val:\n",
    "            return middle\n",
    "        \n",
    "        # if middle element is greater than target element\n",
    "        # restrict our search to elements to the left of middle\n",
    "        elif lst[middle] > val:\n",
    "            upper = middle - 1\n",
    "            \n",
    "        # if middle element is lesser than target element\n",
    "        # restrict our search to elements to the right of middle\n",
    "        else:\n",
    "            lower = middle + 1       \n",
    "    return -1\n",
    "binary_search(lst, 10)"
   ]
  },
  {
   "cell_type": "markdown",
   "metadata": {
    "ExecuteTime": {
     "end_time": "2020-12-31T19:22:06.314438Z",
     "start_time": "2020-12-31T19:22:06.278876Z"
    },
    "slideshow": {
     "slide_type": "slide"
    }
   },
   "source": [
    "### Time complexity of binary search\n",
    "* list reduces by a factor of $2$ on each iteration of while loop;\n",
    "* everything within the while loop runs in constant time;\n",
    "* time complexity is $O(\\log n)$."
   ]
  },
  {
   "cell_type": "code",
   "execution_count": 5,
   "metadata": {
    "ExecuteTime": {
     "end_time": "2020-12-31T21:21:48.969192Z",
     "start_time": "2020-12-31T21:21:48.867362Z"
    },
    "slideshow": {
     "slide_type": "skip"
    }
   },
   "outputs": [],
   "source": [
    "lst2 = list(range(1_000_000))"
   ]
  },
  {
   "cell_type": "code",
   "execution_count": 6,
   "metadata": {
    "ExecuteTime": {
     "end_time": "2020-12-31T21:22:01.056748Z",
     "start_time": "2020-12-31T21:21:51.186826Z"
    },
    "slideshow": {
     "slide_type": "skip"
    }
   },
   "outputs": [
    {
     "name": "stdout",
     "output_type": "stream",
     "text": [
      "26 ms ± 710 µs per loop (mean ± std. dev. of 7 runs, 10 loops each)\n"
     ]
    }
   ],
   "source": [
    "%%timeit\n",
    "\n",
    "# 1 million operations\n",
    "linear_search(lst2, 1_000_000)"
   ]
  },
  {
   "cell_type": "code",
   "execution_count": 7,
   "metadata": {
    "ExecuteTime": {
     "end_time": "2020-12-31T21:22:03.572339Z",
     "start_time": "2020-12-31T21:22:03.490081Z"
    },
    "slideshow": {
     "slide_type": "skip"
    }
   },
   "outputs": [
    {
     "name": "stdout",
     "output_type": "stream",
     "text": [
      "2.24 µs ± 89.8 ns per loop (mean ± std. dev. of 7 runs, 1,000 loops each)\n"
     ]
    }
   ],
   "source": [
    "%%timeit -n 1000\n",
    "\n",
    "# 20 operations\n",
    "binary_search(lst2, 1_000_000)"
   ]
  },
  {
   "cell_type": "markdown",
   "metadata": {
    "slideshow": {
     "slide_type": "slide"
    }
   },
   "source": [
    "## Sorting\n",
    "\n",
    "The problem in sorting is to, given an unsorted list of elements, to sort them into either ascending or descending order."
   ]
  },
  {
   "cell_type": "markdown",
   "metadata": {
    "slideshow": {
     "slide_type": "slide"
    }
   },
   "source": [
    "### Why not just use Python's sorting function?\n",
    "\n",
    "```Python\n",
    "a = [2,1,8,9,5,3]\n",
    "sorted(a)\n",
    ">>> [1,2,3,5,8,9]\n",
    "```\n",
    "\n",
    "**Importance of learning about sorting algorithms.**\n",
    "\n",
    "* Depending on the nature of your input or specification of your problem, the built-in sorting algorithm might not be the best option in terms of efficiency.\n",
    "\n",
    "* It teaches you fundamental techniques for solving a long list of different problems. This includes: recursion, divide and conquer, randomization, data structures (heaps and binary trees).\n",
    "\n",
    "* It gives you a deeper understanding of Big-O notation, and especially how to analyse codes which uses some of the techniques above.\n",
    "\n",
    "* Ideas underpinning sorting algorithms are useful in the design of several other algorithms.\n",
    "\n",
    "* Questions on sorting algorithms comes up in almost every programming interview."
   ]
  },
  {
   "cell_type": "markdown",
   "metadata": {
    "slideshow": {
     "slide_type": "slide"
    }
   },
   "source": [
    "### Sorting algorithms\n",
    "\n",
    "1. Bubble sort\n",
    "2. Insertion sort\n",
    "3. Merge sort\n",
    "4. Quick sort\n",
    "5. Counting sort\n",
    "6. Selection sort\n",
    "7. Heap sort\n",
    "\n",
    "<div class=\"alert alert-info\"> \n",
    "    <b>Note: </b> This is not an exhaustive list, see this <a href=\"https://en.wikipedia.org/wiki/Sorting_algorithm\"> reference</a> for other sorting algorithms.\n",
    "</div>"
   ]
  },
  {
   "cell_type": "markdown",
   "metadata": {
    "slideshow": {
     "slide_type": "slide"
    }
   },
   "source": [
    "### Bubble sort \n",
    "\n",
    "<img src=\"imgs/bubble2.jpg\" width=70%>"
   ]
  },
  {
   "cell_type": "markdown",
   "metadata": {
    "slideshow": {
     "slide_type": "slide"
    }
   },
   "source": [
    "A great animation from Wikipedia, author `Swfung8`, [CC Attribution-Share Alike 3.0 Unported](https://creativecommons.org/licenses/by-sa/3.0/deed.en) \n",
    "\n",
    "\n",
    "<img src=\"imgs/bubblesortanim.gif\" width=40%>"
   ]
  },
  {
   "cell_type": "code",
   "execution_count": 12,
   "metadata": {
    "ExecuteTime": {
     "end_time": "2020-12-31T21:33:15.657942Z",
     "start_time": "2020-12-31T21:33:15.641443Z"
    },
    "slideshow": {
     "slide_type": "slide"
    }
   },
   "outputs": [
    {
     "name": "stdout",
     "output_type": "stream",
     "text": [
      "iteration 1: [10, 12, 15, 1, 2, 3, 4, 5, 6, 17]\n",
      "iteration 2: [10, 12, 1, 2, 3, 4, 5, 6, 15, 17]\n",
      "iteration 3: [10, 1, 2, 3, 4, 5, 6, 12, 15, 17]\n",
      "iteration 4: [1, 2, 3, 4, 5, 6, 10, 12, 15, 17]\n",
      "iteration 5: [1, 2, 3, 4, 5, 6, 10, 12, 15, 17]\n",
      "iteration 6: [1, 2, 3, 4, 5, 6, 10, 12, 15, 17]\n",
      "iteration 7: [1, 2, 3, 4, 5, 6, 10, 12, 15, 17]\n",
      "iteration 8: [1, 2, 3, 4, 5, 6, 10, 12, 15, 17]\n",
      "iteration 9: [1, 2, 3, 4, 5, 6, 10, 12, 15, 17]\n"
     ]
    },
    {
     "data": {
      "text/plain": [
       "[1, 2, 3, 4, 5, 6, 10, 12, 15, 17]"
      ]
     },
     "execution_count": 12,
     "metadata": {},
     "output_type": "execute_result"
    }
   ],
   "source": [
    "def bubble_sort(L):\n",
    "    n = len(L)    \n",
    "    # we go through the list (n-1) times\n",
    "    # searching for the largest element\n",
    "    # in the unsorted pile\n",
    "    for i in range(1, n):         \n",
    "        # go through the unsorted pile\n",
    "        for j in range(n - i):            \n",
    "            # if a large element is encountered\n",
    "            if L[j] > L[j+1]:\n",
    "                # make a swap\n",
    "                L[j], L[j+1] = L[j+1], L[j]\n",
    "        print(f\"iteration {i}: {L}\")\n",
    "    return L\n",
    "\n",
    "bubble_sort([17, 10, 12, 15, 1, 2, 3, 4, 5, 6])"
   ]
  },
  {
   "cell_type": "markdown",
   "metadata": {
    "ExecuteTime": {
     "end_time": "2020-11-28T17:04:40.737965Z",
     "start_time": "2020-11-28T17:04:40.704690Z"
    },
    "slideshow": {
     "slide_type": "slide"
    }
   },
   "source": [
    "### Time complexity of bubble sort\n",
    "\n",
    "* The algorithm is a sequence of comparisons and swaps;\n",
    "* The comparisons and swaps take constant time, but how many of them are we doing in total?\n",
    "* There are $n-1$ comparisons in the first iteration of the outer loop; \n",
    "* $n-2$ comparisons in the second iteration, and so on, until the final comparison is done. \n",
    "\n",
    "* The total number of comparisons is thus:\n",
    "\n",
    "$$(n-1) + (n-2) + (n-3) + \\cdots + 3 + 2 + 1 = \\frac{n(n-1)}{2} = \\frac{n^2}{2} - \\frac{n}{2}.$$\n",
    "\n",
    "* **The total time complexity of bubble sort is $O(n^2)$.**\n",
    "\n",
    "<div class=\"alert alert-danger\"> \n",
    "    <b>Note: </b> Do NOT use bubble sort for an unsorted list in a programming interview, ever!\n",
    "</div>"
   ]
  },
  {
   "cell_type": "markdown",
   "metadata": {
    "slideshow": {
     "slide_type": "slide"
    }
   },
   "source": [
    "### Quick sort\n",
    "\n",
    "<img src=\"imgs/quick.jpg\" width=60%>"
   ]
  },
  {
   "cell_type": "code",
   "execution_count": 15,
   "metadata": {
    "ExecuteTime": {
     "end_time": "2020-12-31T21:44:21.633075Z",
     "start_time": "2020-12-31T21:44:21.619127Z"
    },
    "slideshow": {
     "slide_type": "slide"
    }
   },
   "outputs": [
    {
     "name": "stdout",
     "output_type": "stream",
     "text": [
      "[1, 1, 2, 4, 4, 5, 5, 6, 8, 9, 10, 10, 11, 11, 23, 34]\n"
     ]
    }
   ],
   "source": [
    "import random\n",
    "\n",
    "def quickSort(L):  \n",
    "    if len(L) < 2:  # terminating condition        \n",
    "        return L  \n",
    "    pivot = random.choice(L) #  select a pivot element at random\n",
    "    \n",
    "    # store elements lesser than\n",
    "    # equal to or greater than pivot\n",
    "    lesser, equal, greater = [], [], []   \n",
    "    for elt in L:\n",
    "        if elt < pivot:\n",
    "            lesser.append(elt)\n",
    "        elif elt == pivot:\n",
    "            equal.append(elt)\n",
    "        else:\n",
    "            greater.append(elt)\n",
    "            \n",
    "    # recursively sort the lesser elements to the left\n",
    "    # the greater elements to the right\n",
    "    # by calling quicksort on each list\n",
    "    # with the pivot in the middle (its right position)    \n",
    "    return quickSort(lesser) + equal + quickSort(greater)\n",
    "   \n",
    "\n",
    "print(quickSort([2,4,5,1,8,9,10,11,34,23,11,10,4,5,6,1]))"
   ]
  },
  {
   "cell_type": "markdown",
   "metadata": {
    "ExecuteTime": {
     "end_time": "2020-11-27T00:27:29.832414Z",
     "start_time": "2020-11-27T00:27:29.803991Z"
    },
    "slideshow": {
     "slide_type": "slide"
    }
   },
   "source": [
    "### Time complexity of quick sort\n",
    "* Partitioning around a pivot element takes $O(n)$ time;\n",
    "* Recursion terminates when there is no longer a list to partition;\n",
    "* How many times do we partition in total? Answer: $O(\\log n)$ times.\n",
    "* **Total time complexity of quick sort** is $O(n) \\times O(\\log n) = O(n\\log n).$\n",
    "\n",
    "<div class=\"alert alert-info\"> \n",
    "    <b>Note: </b> If the pivot element is the smallest or largest of each sub-lists, then it will take at most $n$ partitions before the recursion terminates, and thus the time complexity of quick sort becomes $O(n^2)$. However, by selecting the pivot element at random, we can expect quick sort to have a worst-case time complexity of $O(n \\log n)$.  It is widely known that randomly selecting the pivot makes the $O(n^2)$ time unlikely.\n",
    "</div>"
   ]
  },
  {
   "cell_type": "markdown",
   "metadata": {
    "slideshow": {
     "slide_type": "slide"
    }
   },
   "source": [
    "### Counting sort\n",
    "\n",
    "<img src=\"imgs/counting.jpg\" width=60%>"
   ]
  },
  {
   "cell_type": "code",
   "execution_count": 16,
   "metadata": {
    "slideshow": {
     "slide_type": "slide"
    }
   },
   "outputs": [
    {
     "name": "stdout",
     "output_type": "stream",
     "text": [
      "[1, 1, 2, 4, 4, 5, 5, 6, 8, 9, 10, 10, 11, 11, 23, 34]\n"
     ]
    }
   ],
   "source": [
    "# implementation of counting sort\n",
    "\n",
    "def countingSort(lst):\n",
    "    # maximum element in lst decides the size of our bucket\n",
    "    max_elt = max(lst) # O(n)\n",
    "    \n",
    "    # create our bucket for counting\n",
    "    bucket = [0 for _ in range(max_elt+1)] # O(k), where k = max_elt\n",
    "    \n",
    "    # iterate through elts in lst and increment index in bucket\n",
    "    for elt in lst: # O(n)\n",
    "        bucket[elt] += 1\n",
    "    \n",
    "    # copy the count of each index to form the sorted_lst\n",
    "    sorted_lst = []\n",
    "    for idx, count in enumerate(bucket): # O(k)\n",
    "        sorted_lst.extend([idx]*count)\n",
    "    return sorted_lst\n",
    "\n",
    "print(countingSort([2,4,5,1,8,9,10,11,34,23,11,10,4,5,6,1]))\n",
    "\n",
    "# total complexity is\n",
    "# O(n + k), still linear in n"
   ]
  },
  {
   "cell_type": "markdown",
   "metadata": {
    "slideshow": {
     "slide_type": "slide"
    }
   },
   "source": [
    "### Time complexity of counting sort\n",
    "Suppose $n$ is the size of the given list $L$\n",
    "* Finding the maximum element in $L$ takes $O(n)$ time;\n",
    "* Setting up the bucket for counting takes $O(k)$ time, where $k = \\max(n)$\n",
    "* Iterating through the list to update the buckect takes $O(n)$ time\n",
    "* iterating through the bucket to form the sorted list takes $O(k)$ time\n",
    "* **Total time complexity of counting sort** is $O(n) +O(k) + O(n) + O(k) = O(k+n) = O(n).$"
   ]
  },
  {
   "cell_type": "markdown",
   "metadata": {
    "slideshow": {
     "slide_type": "slide"
    }
   },
   "source": [
    "### Summary\n",
    "\n",
    "In this lecture, we have covered\n",
    "* linear search: $O(n)$\n",
    "* binary search: $O(\\log n)$\n",
    "* bubble sort: $O(n^2)$\n",
    "* quick sort: $O(n \\log n)$, randomised pivot selection\n",
    "* counting sort: $O(n)$."
   ]
  }
 ],
 "metadata": {
  "hide_input": false,
  "kernelspec": {
   "display_name": "Python 3 (ipykernel)",
   "language": "python",
   "name": "python3"
  },
  "language_info": {
   "codemirror_mode": {
    "name": "ipython",
    "version": 3
   },
   "file_extension": ".py",
   "mimetype": "text/x-python",
   "name": "python",
   "nbconvert_exporter": "python",
   "pygments_lexer": "ipython3",
   "version": "3.8.12"
  },
  "latex_envs": {
   "LaTeX_envs_menu_present": true,
   "autoclose": false,
   "autocomplete": true,
   "bibliofile": "biblio.bib",
   "cite_by": "apalike",
   "current_citInitial": 1,
   "eqLabelWithNumbers": true,
   "eqNumInitial": 1,
   "hotkeys": {
    "equation": "Ctrl-E",
    "itemize": "Ctrl-I"
   },
   "labels_anchors": false,
   "latex_user_defs": false,
   "report_style_numbering": false,
   "user_envs_cfg": false
  },
  "toc": {
   "base_numbering": 1,
   "nav_menu": {},
   "number_sections": true,
   "sideBar": true,
   "skip_h1_title": true,
   "title_cell": "Table of Contents",
   "title_sidebar": "Contents",
   "toc_cell": false,
   "toc_position": {
    "height": "calc(100% - 180px)",
    "left": "10px",
    "top": "150px",
    "width": "465.498px"
   },
   "toc_section_display": true,
   "toc_window_display": false
  }
 },
 "nbformat": 4,
 "nbformat_minor": 4
}
