{
 "cells": [
  {
   "cell_type": "markdown",
   "id": "e1cc702a",
   "metadata": {},
   "source": [
    "# Day 1: Advanced data structures\n",
    "\n",
    "\n",
    "## 1. Stacks\n",
    "\n",
    "You should begin this set of exercises by first implementing the stack data structure. An implementation that makes use of object-oriented programming is provided in the notes. If you understand these concepts, you can implement a version that is similar to this.\n",
    "\n",
    "However, if you are not yet comfortable with object-oriented programming, you can implement a stack using a list. Think about how the stack operations can be managed using lists: where does data get added to and removed from?\n",
    "\n",
    "Once you've implemented the stack, try it out with some example data."
   ]
  },
  {
   "cell_type": "code",
   "execution_count": 1,
   "id": "648bb23c",
   "metadata": {},
   "outputs": [],
   "source": [
    "# implement and test your stack code here"
   ]
  },
  {
   "cell_type": "markdown",
   "id": "416698b0",
   "metadata": {},
   "source": [
    "### 1.1 Reversing strings\n",
    "\n",
    "Using a stack, write a function that takes a string, and returns the reverse of the string."
   ]
  },
  {
   "cell_type": "code",
   "execution_count": 3,
   "id": "b5705177",
   "metadata": {},
   "outputs": [],
   "source": [
    "# write your solution here"
   ]
  },
  {
   "cell_type": "markdown",
   "id": "34772870",
   "metadata": {},
   "source": [
    "### Optional: 1.2 Postfix to infix convertor\n",
    "\n",
    "Using a stack, write a function that will convert an arithmetic expression, written using postfix, into the same expression, written in infix notation. \n",
    "\n",
    "Infix notation is where the operator to be applied to two operands is written between the operands: for example, `2 + 3` is written in infix notation. Postfix notation is where the operator is written after both operands: so, `2 3 +` is the same expression written in postfix notation."
   ]
  },
  {
   "cell_type": "code",
   "execution_count": 4,
   "id": "faa4531f",
   "metadata": {},
   "outputs": [],
   "source": [
    "# write your solution here"
   ]
  },
  {
   "cell_type": "markdown",
   "id": "d381e13e",
   "metadata": {},
   "source": [
    "### Optional: 1.3 Next greater element\n",
    "\n",
    "Using a stack, write a function that takes a list of numbers, and returns a list containing the _next greater element_ for each number in the input list. The _next greater element_ for a given number _n_ is the first number in the remainder of the list that is larger than _n_. If no such number exists in the list, then this value is -1. \n",
    "\n",
    "For example, if our input list is `[9, 22, 5, 17]`, then the output list will be `[22, -1, 17, -1]`."
   ]
  },
  {
   "cell_type": "code",
   "execution_count": 5,
   "id": "300becf4",
   "metadata": {},
   "outputs": [],
   "source": [
    "# write your solution here"
   ]
  },
  {
   "cell_type": "markdown",
   "id": "d019d540",
   "metadata": {},
   "source": [
    "## 2. Queues\n",
    "\n",
    "Next, implement the queue data structure. As for the stack exercises above, write an implementation with concepts that you are familiar with, and are comfortable using.\n",
    "\n",
    "Once you've implemented the queue, try it out with some example data."
   ]
  },
  {
   "cell_type": "code",
   "execution_count": 6,
   "id": "93060b75",
   "metadata": {},
   "outputs": [],
   "source": [
    "# implement and test your queue code here"
   ]
  },
  {
   "cell_type": "markdown",
   "id": "03365e0f",
   "metadata": {},
   "source": [
    "### 2.1 Reversing queues\n",
    "\n",
    "Given a queue that contains some initial element, write a function that will reverse the queue, itself using a queue."
   ]
  },
  {
   "cell_type": "code",
   "execution_count": null,
   "id": "a7c1fb2c",
   "metadata": {},
   "outputs": [],
   "source": [
    "# write your solution here"
   ]
  },
  {
   "cell_type": "markdown",
   "id": "eea150b2",
   "metadata": {},
   "source": [
    "## 3. Binary Search Trees\n",
    "\n",
    "Finally, implement the binary search tree data structure. As for both stacks and queues, your implementation should use concepts that you are comfortable with. It is possible to use lists to represent binary search trees: each node could be a list with three elements: a left branch, the data itself, and a right branch.\n",
    "\n",
    "Once you've implemented the binary search tree, try it out with some example data."
   ]
  },
  {
   "cell_type": "code",
   "execution_count": null,
   "id": "7235ef7c",
   "metadata": {},
   "outputs": [],
   "source": [
    "# implement and test your bst code here"
   ]
  },
  {
   "cell_type": "markdown",
   "id": "af2bde5a",
   "metadata": {},
   "source": [
    "### 3.1 Summing the data in a tree\n",
    "\n",
    "Write a function that sums together the values held in a given binary search tree, and returns that value."
   ]
  },
  {
   "cell_type": "code",
   "execution_count": null,
   "id": "1b798e05",
   "metadata": {},
   "outputs": [],
   "source": [
    "# write your solution here"
   ]
  },
  {
   "cell_type": "markdown",
   "id": "df14f103",
   "metadata": {},
   "source": [
    "### 3.2 Get tree height\n",
    "\n",
    "Write a function that calculates the height of a given binary search tree. The _height_ of the binary search tree is the length of the largest path between the root node of the tree, and a leaf node."
   ]
  },
  {
   "cell_type": "code",
   "execution_count": null,
   "id": "c5dbf183",
   "metadata": {},
   "outputs": [],
   "source": [
    "# write your solution here"
   ]
  }
 ],
 "metadata": {
  "kernelspec": {
   "display_name": "Python 3 (ipykernel)",
   "language": "python",
   "name": "python3"
  },
  "language_info": {
   "codemirror_mode": {
    "name": "ipython",
    "version": 3
   },
   "file_extension": ".py",
   "mimetype": "text/x-python",
   "name": "python",
   "nbconvert_exporter": "python",
   "pygments_lexer": "ipython3",
   "version": "3.8.12"
  }
 },
 "nbformat": 4,
 "nbformat_minor": 5
}
