{
 "cells": [
  {
   "cell_type": "markdown",
   "id": "7d956f03",
   "metadata": {},
   "source": [
    "# Day 5: The Stable Matching problem\n",
    "\n",
    "Today's task is to implement the Gale-Shapley algorithm for the stable marriage problem (either the man-oriented or woman-oriented version). \n",
    "\n",
    "**Visualisation link:** https://liamlau.github.io/individual-project/\n",
    "\n",
    "**Dissertation here:** https://docs.google.com/viewer?url=https://github.com/liamlau/individual-project/files/6353059/2314991l.pdf with pseudocode in Figure 2.2 (page 3).\n",
    "\n",
    "You may wish to read in your instance from a .txt file into your chosen data structure in Python. An example instance is given below involving 3 men and 3 women:\n",
    "\n",
    "<img src=\"image.png\" width=70%>"
   ]
  },
  {
   "cell_type": "markdown",
   "id": "817b830d",
   "metadata": {},
   "source": [
    "If we convert women to number representation, then we have the following where the orange text represents the men's preference list and that in purple represents the women's preference list:\n",
    "<br><br>\n",
    "<b>\n",
    "3 3<br>\n",
    "<font color=\"#FFA500\">1 1 3 2<br>\n",
    "2 2 1 3<br>\n",
    "3 3 1 2</font><br>\n",
    "<font color=\"#9932CC\">1 2 3 1<br>\n",
    "2 1 2 3<br>\n",
    "3 2 3 1</font></b>"
   ]
  }
 ],
 "metadata": {
  "kernelspec": {
   "display_name": "Python 3 (ipykernel)",
   "language": "python",
   "name": "python3"
  },
  "language_info": {
   "codemirror_mode": {
    "name": "ipython",
    "version": 3
   },
   "file_extension": ".py",
   "mimetype": "text/x-python",
   "name": "python",
   "nbconvert_exporter": "python",
   "pygments_lexer": "ipython3",
   "version": "3.8.12"
  }
 },
 "nbformat": 4,
 "nbformat_minor": 5
}
