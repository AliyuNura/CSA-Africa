{
 "cells": [
  {
   "cell_type": "markdown",
   "metadata": {
    "slideshow": {
     "slide_type": "slide"
    }
   },
   "source": [
    "# Day 2: Introduction to Time Complexity\n",
    "\n",
    "In today's tutorial, we'll cover:\n",
    "- Measuring code efficiency with respect to time\n",
    "- Why `timeit` is not a good measure of time complexity\n",
    "- The Big-O notation\n",
    "- The most common Big-O notations\n",
    "- Why you should care about code efficiency\n",
    "- The Big-O of some Python operations\n",
    "- Analysing the overall time complexity of a program"
   ]
  },
  {
   "cell_type": "markdown",
   "metadata": {
    "slideshow": {
     "slide_type": "slide"
    }
   },
   "source": [
    "# Why does efficiency matter?"
   ]
  },
  {
   "cell_type": "markdown",
   "metadata": {
    "slideshow": {
     "slide_type": "slide"
    }
   },
   "source": [
    "Write a function that takes a parameter $n$ and calculates the $n$-th Fibonacci number.\n",
    "$$F_0 = 0, F_1 = 1,$$\n",
    "$$F_{n} = F_{n-1} + F_{n-2}, \\mbox{ for } n > 1.$$"
   ]
  },
  {
   "cell_type": "code",
   "execution_count": 1,
   "metadata": {
    "ExecuteTime": {
     "end_time": "2020-12-30T17:08:59.743396Z",
     "start_time": "2020-12-30T17:08:53.965023Z"
    },
    "slideshow": {
     "slide_type": "slide"
    }
   },
   "outputs": [
    {
     "name": "stdout",
     "output_type": "stream",
     "text": [
      "194 ms ± 4.99 ms per loop (mean ± std. dev. of 7 runs, 1 loop each)\n"
     ]
    }
   ],
   "source": [
    "%%timeit -n 1\n",
    "\n",
    "# recursion\n",
    "\n",
    "def fibonacci_A(n):\n",
    "    if n == 0 or n == 1:\n",
    "        return n\n",
    "    else:\n",
    "        return fibonacci_A(n-1) + fibonacci_A(n-2)\n",
    "\n",
    "fibonacci_A(30)"
   ]
  },
  {
   "cell_type": "code",
   "execution_count": 2,
   "metadata": {
    "ExecuteTime": {
     "end_time": "2020-12-30T17:09:07.693277Z",
     "start_time": "2020-12-30T17:09:07.503015Z"
    },
    "slideshow": {
     "slide_type": "slide"
    }
   },
   "outputs": [
    {
     "name": "stdout",
     "output_type": "stream",
     "text": [
      "7.87 µs ± 1.81 µs per loop (mean ± std. dev. of 7 runs, 1,000 loops each)\n"
     ]
    }
   ],
   "source": [
    "%%timeit -n 1000\n",
    "\n",
    "# + memoisation\n",
    "\n",
    "fibonacci_dict = {0: 0, 1: 1}\n",
    "\n",
    "def fibonacci_B(n):\n",
    "    \n",
    "    # if previously computed, don’t compute again\n",
    "    if n in fibonacci_dict:\n",
    "        return fibonacci_dict[n] \n",
    "    \n",
    "    # if not, then compute it\n",
    "    else:\n",
    "        new_value = fibonacci_B(n-1) + fibonacci_B(n-2)\n",
    "        # this is a new computation, store it in the dictionary\n",
    "        fibonacci_dict[n] = new_value        \n",
    "        return new_value\n",
    "\n",
    "fibonacci_B(30)"
   ]
  },
  {
   "cell_type": "markdown",
   "metadata": {
    "slideshow": {
     "slide_type": "slide"
    }
   },
   "source": [
    "## Operations\n",
    "\n",
    "An operation is an expression or statement whose execution does not depend on the size of the input."
   ]
  },
  {
   "cell_type": "code",
   "execution_count": 6,
   "metadata": {
    "ExecuteTime": {
     "end_time": "2020-12-30T17:11:43.646051Z",
     "start_time": "2020-12-30T17:11:43.641976Z"
    },
    "slideshow": {
     "slide_type": "skip"
    }
   },
   "outputs": [
    {
     "name": "stdout",
     "output_type": "stream",
     "text": [
      "0\n"
     ]
    }
   ],
   "source": [
    "# one operation\n",
    "\n",
    "print(10_000_000%2)"
   ]
  },
  {
   "cell_type": "code",
   "execution_count": 7,
   "metadata": {
    "ExecuteTime": {
     "end_time": "2020-12-30T17:11:58.088533Z",
     "start_time": "2020-12-30T17:11:58.080946Z"
    },
    "slideshow": {
     "slide_type": "slide"
    }
   },
   "outputs": [
    {
     "name": "stdout",
     "output_type": "stream",
     "text": [
      "Introduction to time complexity\n"
     ]
    }
   ],
   "source": [
    "# 3 operations\n",
    "\n",
    "print(\"Introduction to time complexity\")\n",
    "L = [] \n",
    "L.append('operations')"
   ]
  },
  {
   "cell_type": "code",
   "execution_count": 8,
   "metadata": {
    "ExecuteTime": {
     "end_time": "2020-12-30T17:12:17.638058Z",
     "start_time": "2020-12-30T17:12:17.616952Z"
    },
    "slideshow": {
     "slide_type": "slide"
    }
   },
   "outputs": [
    {
     "name": "stdout",
     "output_type": "stream",
     "text": [
      "0 1 2 3 4 5 6 7 8 9 10 11 12 13 14 15 16 17 18 19 20 21 22 23 24 25 26 27 28 29 30 31 32 33 34 35 36 37 38 39 40 41 42 43 44 45 46 47 48 49 50 51 52 53 54 55 56 57 58 59 60 61 62 63 64 65 66 67 68 69 70 71 72 73 74 75 76 77 78 79 80 81 82 83 84 85 86 87 88 89 90 91 92 93 94 95 96 97 98 99 "
     ]
    }
   ],
   "source": [
    "# 100 operations\n",
    "\n",
    "for i in range(100):\n",
    "    print(i, end=' ')"
   ]
  },
  {
   "cell_type": "markdown",
   "metadata": {
    "slideshow": {
     "slide_type": "slide"
    }
   },
   "source": [
    "# Measuring code efficiency\n",
    "\n",
    "We can measure the efficiency and complexity of our code in two ways:\n",
    "- _Time_ complexity, where we consider how long our code takes to run, and\n",
    "- _Space_ complexity, where we consider how much memory our code will use.\n",
    "\n",
    "### Time complexity\n",
    "\n",
    "* $I$: an instance of a problem.\n",
    "* $n$: the input size of $I$; for example, the length of a list. \n",
    "\n",
    "There are three possible cases when analysing the time complexity of a code that solves $I$:\n",
    "1. best case,\n",
    "2. average case, and\n",
    "3. worst case."
   ]
  },
  {
   "cell_type": "code",
   "execution_count": 10,
   "metadata": {
    "ExecuteTime": {
     "end_time": "2020-12-30T15:38:43.520822Z",
     "start_time": "2020-12-30T15:38:43.508415Z"
    },
    "slideshow": {
     "slide_type": "slide"
    }
   },
   "outputs": [],
   "source": [
    "# Given a sorted list and a target value,\n",
    "# a function to return the value if it\n",
    "# is in the list and None otherwise.\n",
    "\n",
    "def simple_search(A, val):\n",
    "    for elt in A:         # one operation in each iteration\n",
    "        if elt == val:    # one operation\n",
    "            return val    # one operation\n",
    "    return None           # one operation"
   ]
  },
  {
   "cell_type": "code",
   "execution_count": 11,
   "metadata": {
    "ExecuteTime": {
     "end_time": "2020-12-30T15:38:44.152099Z",
     "start_time": "2020-12-30T15:38:44.131387Z"
    },
    "slideshow": {
     "slide_type": "slide"
    }
   },
   "outputs": [
    {
     "data": {
      "text/plain": [
       "1"
      ]
     },
     "execution_count": 11,
     "metadata": {},
     "output_type": "execute_result"
    }
   ],
   "source": [
    "# best case\n",
    "\n",
    "# if target element is in the first position\n",
    "# total of 3 operations\n",
    "\n",
    "simple_search([1,2,3,4,5,6,7,8,9,10], 1)"
   ]
  },
  {
   "cell_type": "code",
   "execution_count": 12,
   "metadata": {
    "ExecuteTime": {
     "end_time": "2020-12-30T15:38:44.832048Z",
     "start_time": "2020-12-30T15:38:44.813584Z"
    },
    "slideshow": {
     "slide_type": "slide"
    }
   },
   "outputs": [
    {
     "data": {
      "text/plain": [
       "5"
      ]
     },
     "execution_count": 12,
     "metadata": {},
     "output_type": "execute_result"
    }
   ],
   "source": [
    "# average case\n",
    "\n",
    "# if target element is half-way through the list\n",
    "# total of 11 operations\n",
    "\n",
    "simple_search([1,2,3,4,5,6,7,8,9,10], 5)"
   ]
  },
  {
   "cell_type": "code",
   "execution_count": 14,
   "metadata": {
    "ExecuteTime": {
     "end_time": "2020-12-30T15:39:24.585341Z",
     "start_time": "2020-12-30T15:39:24.571964Z"
    },
    "slideshow": {
     "slide_type": "slide"
    }
   },
   "outputs": [
    {
     "data": {
      "text/plain": [
       "10"
      ]
     },
     "execution_count": 14,
     "metadata": {},
     "output_type": "execute_result"
    }
   ],
   "source": [
    "# worst case\n",
    "\n",
    "# if target element is at the tail of the list\n",
    "# or if target element is not in the list\n",
    "# total of 21 operations\n",
    "\n",
    "simple_search([1,2,3,4,5,6,7,8,9,10], 10)"
   ]
  },
  {
   "cell_type": "markdown",
   "metadata": {
    "slideshow": {
     "slide_type": "notes"
    }
   },
   "source": [
    "In the remainder of this lecture, we will be considering the worst case time complexity of executing a code. This is because we are interested in how much time it takes to run our code on any possible input."
   ]
  },
  {
   "cell_type": "markdown",
   "metadata": {
    "slideshow": {
     "slide_type": "slide"
    }
   },
   "source": [
    "### Is `%%timeit` sufficient?\n",
    "\n",
    "Sadly, the execution time displayed in the console cannot be used to reliably measure the time complexity of code because:\n",
    "- the time may vary from one system to another, depending on the computer hardware;\n",
    "- the time may vary on the same computer, depending on other processes running at the same time.\n",
    "\n",
    "For this reason, we use the Big-O notation to analyse the worst case time complexity of a code."
   ]
  },
  {
   "cell_type": "markdown",
   "metadata": {
    "slideshow": {
     "slide_type": "slide"
    }
   },
   "source": [
    "## The Big-O notation $O(...)$\n",
    "\n",
    "* A mathematical notation that describes the **growth rate of a function** $f(n)$ as $n$ tends to $\\infty$. \n",
    "* Letter $O$ is used because the growth rate of a function is also referred to as its **order of magnitude**.\n",
    "* This notation is very popular and widely used in computer science.\n",
    "\n",
    "Big-O notation presents a convenient way to represent the relationship between the input size $n$ of a problem $I$ and the number of operations required to execute a code that solves $I$."
   ]
  },
  {
   "cell_type": "markdown",
   "metadata": {
    "slideshow": {
     "slide_type": "slide"
    }
   },
   "source": [
    "For example, consider the worst case of our simple search code.\n",
    "```Python\n",
    "    def simple_search(A, val):\n",
    "        for elt in A:         # one operation in each iteration\n",
    "            if elt == val:    # one operation\n",
    "                return val    # one operation\n",
    "        return None           # one operation\n",
    "``` \n",
    "    2 elements -> 5 operations, \n",
    "    3 elements -> 7 operations, \n",
    "    4 elements -> 9 operations, \n",
    "    5 elements -> 11 operations, ...\n",
    " \n",
    "$$\\mbox{ length of the list} = n,$$\n",
    "$$\\mbox{ number of operations} = 2n+1.$$\n",
    "\n",
    "* The function representing the number of operations is linear with respect to $n$. \n",
    "* The Big-O notation of simple search is $O(n)$. "
   ]
  },
  {
   "cell_type": "markdown",
   "metadata": {
    "slideshow": {
     "slide_type": "slide"
    }
   },
   "source": [
    "### Most common Big-O functions\n",
    "\n",
    "<br>\n",
    "\n",
    "|Performance &nbsp;&nbsp;&nbsp;&nbsp;&nbsp;&nbsp;&nbsp;&nbsp;| Name          |$O(...)$ |\n",
    "| --- | ---           | -------------------- |\n",
    "| Best | Constant      | $O(1)$              |\n",
    "| Better | Logarithmic   | $O(\\log n)$     |\n",
    "| Good | Linear        | $O(n)$             |\n",
    "| Average | Linearithmic  | $O(n\\log n)$          |\n",
    "| Bad &nbsp;&nbsp;&nbsp;&nbsp;&nbsp;&nbsp;&nbsp;&nbsp;&nbsp;&nbsp;&nbsp;&nbsp;&nbsp;&nbsp;&nbsp;&nbsp;&nbsp;&nbsp; | Polynomial &nbsp;&nbsp;&nbsp;&nbsp;&nbsp;&nbsp;&nbsp;&nbsp;&nbsp;&nbsp;&nbsp;&nbsp;&nbsp;&nbsp;&nbsp;&nbsp;&nbsp;&nbsp; | $O(n^k)$, $k \\geq 2$  &nbsp;&nbsp;&nbsp;&nbsp;&nbsp;&nbsp;&nbsp;&nbsp;&nbsp;&nbsp; &nbsp;&nbsp;&nbsp;&nbsp;&nbsp;&nbsp;&nbsp;&nbsp; |\n",
    "| Worse | Exponential   | $O(2^n)$             |\n",
    "| Worst | Factorial   | $O(n!)$             |"
   ]
  },
  {
   "cell_type": "markdown",
   "metadata": {
    "slideshow": {
     "slide_type": "slide"
    }
   },
   "source": [
    "### Constant time complexity: $O(1)$\n",
    "\n",
    "<img src=\"imgs/constant.png\" width=80%>"
   ]
  },
  {
   "cell_type": "markdown",
   "metadata": {
    "slideshow": {
     "slide_type": "notes"
    }
   },
   "source": [
    "Code has **constant time complexity** if an increase in the size of the input does not affect the number of operations required to execute the code. This type of complexity is denoted by $O(1)$."
   ]
  },
  {
   "cell_type": "code",
   "execution_count": 15,
   "metadata": {
    "ExecuteTime": {
     "end_time": "2020-12-20T16:34:56.325860Z",
     "start_time": "2020-12-20T16:34:56.314982Z"
    },
    "slideshow": {
     "slide_type": "slide"
    }
   },
   "outputs": [],
   "source": [
    "# if the size of A increases from 10 to 10_000_000\n",
    "# len(A) will still take the same time to execute\n",
    "# same as A.append(x)\n",
    "\n",
    "def list_length(A):\n",
    "    x = len(A)  # O(1)\n",
    "    A.append(x) # O(1)\n",
    "    return A    # O(1)\n",
    "\n",
    "# total time complexity is \n",
    "# O(1) + O(1) + O(1) = O(3) = O(1)"
   ]
  },
  {
   "cell_type": "markdown",
   "metadata": {
    "ExecuteTime": {
     "end_time": "2020-11-21T11:03:30.245600Z",
     "start_time": "2020-11-21T11:03:30.226126Z"
    },
    "slideshow": {
     "slide_type": "skip"
    }
   },
   "source": [
    "<img src=\"imgs/cis1.png\" width=80%>"
   ]
  },
  {
   "cell_type": "markdown",
   "metadata": {
    "slideshow": {
     "slide_type": "notes"
    }
   },
   "source": [
    "Note that $O(c) = O(1)$, where $c$ is any constant that does not depend on $n$. In fact, this is how the name \"constant time complexity\" was derived for $O(1)$."
   ]
  },
  {
   "cell_type": "markdown",
   "metadata": {
    "slideshow": {
     "slide_type": "slide"
    }
   },
   "source": [
    "### Logarithmic time complexity: $O(\\log n)$\n",
    "<img src=\"imgs/log.png\" width=80%>"
   ]
  },
  {
   "cell_type": "markdown",
   "metadata": {
    "slideshow": {
     "slide_type": "slide"
    }
   },
   "source": [
    "Recall that $\\log _2 16$ simply means how many copies of $2$ do we need to obtain a number that is at least $16$. \n",
    "Thus, $\\log _2 16 = 4$, since $2 \\times 2 \\times 2 \\times 2 \\geq 16$.\n",
    "    \n",
    "Similarly, $\\log_5 100 = 3$, since $5 \\times 5 \\times 5 \\geq 100$.\n",
    "\n",
    "A code has **logarithmic time complexity** if at each iteration, the size of the input decreases by a specific factor $k$. The factor $k$ is the base of our logarithm which can be used to estimate the number of operations with respect to the input size $n$. \n",
    "\n",
    "$$\\log_k n = \\mbox{number of operations}.$$"
   ]
  },
  {
   "cell_type": "code",
   "execution_count": 12,
   "metadata": {
    "ExecuteTime": {
     "end_time": "2020-12-30T17:29:59.435793Z",
     "start_time": "2020-12-30T17:29:59.427884Z"
    },
    "slideshow": {
     "slide_type": "slide"
    }
   },
   "outputs": [
    {
     "name": "stdout",
     "output_type": "stream",
     "text": [
      "27 operations: [1, 2, 4, 8, 16, 32, 64, 128, 256, 512, 1024, 2048, 4096, 8192, 16384, 32768, 65536, 131072, 262144, 524288, 1048576, 2097152, 4194304, 8388608, 16777216, 33554432, 67108864]\n"
     ]
    }
   ],
   "source": [
    "# the code below jumps 2^{index} elements \n",
    "# on each iteration of the while loop\n",
    "# so the time complexity is O(log_2 n) = O(log n)\n",
    "\n",
    "# 6 < log_2(100) = 7\n",
    "# 26 < log_2(100_000_000) = 27\n",
    "\n",
    "def log2(n):\n",
    "    operations, i, a = 0, 1, []  # O(1)\n",
    "    while i < n:                 # O(log n)\n",
    "        a.append(i)              # O(1)\n",
    "        i = i*2                  # O(1)\n",
    "        operations += 1          # O(1)\n",
    "    return operations, a         # O(1)\n",
    "\n",
    "n = 100_000_000\n",
    "operations, a = log2(n)\n",
    "print(f\"{operations} operations: {a}\")\n",
    "\n",
    "# O(1) + O(log n) + O(1) + O(1) + O(1) + O(1) = O(log n)"
   ]
  },
  {
   "cell_type": "code",
   "execution_count": 14,
   "metadata": {
    "ExecuteTime": {
     "end_time": "2020-12-30T17:31:21.268401Z",
     "start_time": "2020-12-30T17:31:21.259757Z"
    },
    "slideshow": {
     "slide_type": "skip"
    }
   },
   "outputs": [
    {
     "name": "stdout",
     "output_type": "stream",
     "text": [
      "5 operations: [1, 3, 9, 27, 81]\n"
     ]
    }
   ],
   "source": [
    "# this jumps 3^{index} elements \n",
    "# on each iteration of the while loop\n",
    "# so the time complexity is O(log_3 n) = O(log n)\n",
    "\n",
    "# 4 < log_3(100) = 5\n",
    "# 16 < log_3(100_000_000) = 17\n",
    "\n",
    "def log3(n):\n",
    "    operations, i, a = 0, 1, []  # O(1)\n",
    "    while i < n:                 # O(log n)\n",
    "        a.append(i)              # O(1)\n",
    "        i = i*3                  # O(1)\n",
    "        operations += 1          # O(1)\n",
    "    return operations, a         # O(1)\n",
    "\n",
    "n = 100\n",
    "operations, a = log3(n)\n",
    "print(f\"{operations} operations: {a}\")"
   ]
  },
  {
   "cell_type": "markdown",
   "metadata": {
    "slideshow": {
     "slide_type": "notes"
    }
   },
   "source": [
    "Note that, irrespective of the base, logarithmic functions have the same behaviour. Hence, for convenience, we simply drop the base.</div>"
   ]
  },
  {
   "cell_type": "markdown",
   "metadata": {
    "slideshow": {
     "slide_type": "slide"
    }
   },
   "source": [
    "### Linear time complexity: $O(n)$\n",
    "<img src=\"imgs/lin.png\" width=80%>\n",
    "\n",
    "A code has **linear time complexity** if the number of operations required to execute the code increases linearly with the input size $n$."
   ]
  },
  {
   "cell_type": "code",
   "execution_count": null,
   "metadata": {
    "ExecuteTime": {
     "end_time": "2020-12-20T16:34:56.473186Z",
     "start_time": "2020-12-20T16:34:56.464233Z"
    },
    "slideshow": {
     "slide_type": "slide"
    }
   },
   "outputs": [],
   "source": [
    "# if n changes from 10 to 10_000\n",
    "# since we are using a for loop over n\n",
    "# the total number of steps will\n",
    "# also increase from 10 to 10_000\n",
    "\n",
    "def square_sum(n):\n",
    "    result = 0               # O(1)\n",
    "    for i in range(n+1):     # O(n)\n",
    "        result += i          # O(1)\n",
    "    return result**2         # O(1)\n",
    "\n",
    "# total complexity is O(n)"
   ]
  },
  {
   "cell_type": "code",
   "execution_count": null,
   "metadata": {
    "slideshow": {
     "slide_type": "skip"
    }
   },
   "outputs": [],
   "source": [
    "# this is still linear time\n",
    "# do not confuse O(n/2) for O(log n)\n",
    "\n",
    "def even_sum(n):\n",
    "    result = 0                     # O(1)\n",
    "    for i in range(0, n+1, 2):     # O(n/2)\n",
    "        result += i                # O(1)\n",
    "    return result                  # O(1)\n",
    "\n",
    "# total complexity remains O(n)"
   ]
  },
  {
   "cell_type": "code",
   "execution_count": null,
   "metadata": {
    "slideshow": {
     "slide_type": "skip"
    }
   },
   "outputs": [],
   "source": [
    "# this is also linear time\n",
    "\n",
    "def sum_squares(n):\n",
    "    squares = [i**2 for i in range(n+1)]   # O(n)\n",
    "    result = 0                             # O(1)\n",
    "    for elt in squares:                    # O(n)\n",
    "        result += elt                      # O(1)\n",
    "    return result                          # O(1)\n",
    "\n",
    "# total complexity is \n",
    "# O(n) + O(1) + O(n) = O(2n) = O(n)"
   ]
  },
  {
   "cell_type": "markdown",
   "metadata": {
    "ExecuteTime": {
     "end_time": "2020-11-25T15:16:32.097217Z",
     "start_time": "2020-11-25T15:16:31.961275Z"
    },
    "slideshow": {
     "slide_type": "skip"
    }
   },
   "source": [
    "<img src=\"imgs/n2n.png\" width=80%>"
   ]
  },
  {
   "cell_type": "markdown",
   "metadata": {
    "slideshow": {
     "slide_type": "notes"
    }
   },
   "source": [
    "Note that, in general, $O(kn) = O(n)$, where $k$ is a positive integer that does not depend on $n$."
   ]
  },
  {
   "cell_type": "markdown",
   "metadata": {
    "slideshow": {
     "slide_type": "slide"
    }
   },
   "source": [
    "### Linearithmic time complexity: $O(n \\log n)$\n",
    "<img src=\"imgs/linearithmic.png\" width=80%>\n",
    "\n",
    "A code has **linearithmic time complexity** when the number of operations increases with respect to the size of the input times the $\\log$ of the input size."
   ]
  },
  {
   "cell_type": "code",
   "execution_count": null,
   "metadata": {
    "ExecuteTime": {
     "end_time": "2020-12-30T15:50:58.086510Z",
     "start_time": "2020-12-30T15:50:57.996875Z"
    },
    "slideshow": {
     "slide_type": "slide"
    }
   },
   "outputs": [],
   "source": [
    "import random\n",
    "\n",
    "# A is an unsorted list with n elements\n",
    "n = 10000\n",
    "A = [random.randint(1, n) for _ in range(n)] \n",
    "A.sort()   # O(n log n)"
   ]
  },
  {
   "cell_type": "markdown",
   "metadata": {
    "slideshow": {
     "slide_type": "slide"
    }
   },
   "source": [
    "### Polynomial time complexity: $O(n^k), k \\geq 2$\n",
    "<img src=\"imgs/poly.png\" width=80%>\n",
    "\n",
    "A code has **polynomial time complexity** if the number of operations is a polynomial function with respect to the input size."
   ]
  },
  {
   "cell_type": "markdown",
   "metadata": {
    "slideshow": {
     "slide_type": "notes"
    }
   },
   "source": [
    "For example, $O(n^2)$ is quadratic time complexity, $O(n^3)$ is cubic time complexity, and so on."
   ]
  },
  {
   "cell_type": "code",
   "execution_count": 15,
   "metadata": {
    "ExecuteTime": {
     "end_time": "2020-12-30T17:36:49.368964Z",
     "start_time": "2020-12-30T17:36:49.360366Z"
    },
    "slideshow": {
     "slide_type": "slide"
    }
   },
   "outputs": [
    {
     "name": "stdout",
     "output_type": "stream",
     "text": [
      "100 operations: [(1, 1), (1, 2), (1, 3), (1, 4), (1, 5), (1, 6), (1, 7), (1, 8), (1, 9), (1, 10), (2, 1), (2, 2), (2, 3), (2, 4), (2, 5), (2, 6), (2, 7), (2, 8), (2, 9), (2, 10), (3, 1), (3, 2), (3, 3), (3, 4), (3, 5), (3, 6), (3, 7), (3, 8), (3, 9), (3, 10), (4, 1), (4, 2), (4, 3), (4, 4), (4, 5), (4, 6), (4, 7), (4, 8), (4, 9), (4, 10), (5, 1), (5, 2), (5, 3), (5, 4), (5, 5), (5, 6), (5, 7), (5, 8), (5, 9), (5, 10), (6, 1), (6, 2), (6, 3), (6, 4), (6, 5), (6, 6), (6, 7), (6, 8), (6, 9), (6, 10), (7, 1), (7, 2), (7, 3), (7, 4), (7, 5), (7, 6), (7, 7), (7, 8), (7, 9), (7, 10), (8, 1), (8, 2), (8, 3), (8, 4), (8, 5), (8, 6), (8, 7), (8, 8), (8, 9), (8, 10), (9, 1), (9, 2), (9, 3), (9, 4), (9, 5), (9, 6), (9, 7), (9, 8), (9, 9), (9, 10), (10, 1), (10, 2), (10, 3), (10, 4), (10, 5), (10, 6), (10, 7), (10, 8), (10, 9), (10, 10)]\n"
     ]
    }
   ],
   "source": [
    "# cartesian product of A x B\n",
    "\n",
    "def cartesian(A):\n",
    "    pairs = []                       # O(1)\n",
    "    B = A[:]                         # O(n)\n",
    "    for i in A:                      # O(n)\n",
    "        for j in B:                  # O(n)\n",
    "             pairs.append((i, j))    # O(1)\n",
    "    return pairs                     # O(1)\n",
    "\n",
    "\n",
    "# the nested for loop results to O(n) x O(n) = O(n^2)\n",
    "\n",
    "p = cartesian([1,2,3,4,5,6,7,8,9,10])\n",
    "print(f\"{len(p)} operations: {p}\")"
   ]
  },
  {
   "cell_type": "markdown",
   "metadata": {
    "slideshow": {
     "slide_type": "slide"
    }
   },
   "source": [
    "### Exponential time complexity: $O(2^n)$\n",
    "<img src=\"imgs/exponential.png\" width=80%>\n",
    "\n",
    "A code has **exponential time complexity** when the number of operations doubles as the input size increases."
   ]
  },
  {
   "cell_type": "markdown",
   "metadata": {
    "slideshow": {
     "slide_type": "notes"
    }
   },
   "source": [
    "Note that this is a **terrible** complexity that is not feasible in practical applications with large datasets. On the other hand, if the code has repetitive calls then memoisation can be used to speed things up a bit."
   ]
  },
  {
   "cell_type": "code",
   "execution_count": 16,
   "metadata": {
    "ExecuteTime": {
     "end_time": "2020-12-20T18:45:19.440359Z",
     "start_time": "2020-12-20T18:45:13.151796Z"
    },
    "slideshow": {
     "slide_type": "slide"
    }
   },
   "outputs": [
    {
     "name": "stdout",
     "output_type": "stream",
     "text": [
      "387 ns ± 88.3 ns per loop (mean ± std. dev. of 7 runs, 1 loop each)\n"
     ]
    }
   ],
   "source": [
    "%%timeit -n 1\n",
    "\n",
    "# Applicant A: recursion\n",
    "\n",
    "def fibonacci_A(n):\n",
    "    if n == 0 or n == 1:\n",
    "        return n\n",
    "    else:\n",
    "        return fibonacci_A(n-1) + fibonacci_A(n-2)\n",
    "\n",
    "#fibonacci_A(30)"
   ]
  },
  {
   "cell_type": "markdown",
   "metadata": {
    "slideshow": {
     "slide_type": "slide"
    }
   },
   "source": [
    "<img src=\"imgs/fibonacci.jpg\" width=90%>"
   ]
  },
  {
   "cell_type": "code",
   "execution_count": 17,
   "metadata": {
    "ExecuteTime": {
     "end_time": "2020-12-30T15:53:19.912304Z",
     "start_time": "2020-12-30T15:53:19.779688Z"
    },
    "slideshow": {
     "slide_type": "skip"
    }
   },
   "outputs": [
    {
     "name": "stdout",
     "output_type": "stream",
     "text": [
      "9.37 µs ± 5.69 µs per loop (mean ± std. dev. of 7 runs, 1,000 loops each)\n"
     ]
    }
   ],
   "source": [
    "%%timeit -n 1000\n",
    "\n",
    "# Applicant B: recursion + memoisation\n",
    "\n",
    "fibonacci_dict = {0: 0, 1: 1}\n",
    "\n",
    "def fibonacci_B(n):\n",
    "    \n",
    "    # if previously computed, don’t compute again\n",
    "    if n in fibonacci_dict:\n",
    "        return fibonacci_dict[n] \n",
    "    \n",
    "    # if not, then compute it\n",
    "    else:\n",
    "        new_value = fibonacci_B(n-1) + fibonacci_B(n-2)\n",
    "        # this is a new computation, store it in the dictionary\n",
    "        fibonacci_dict[n] = new_value        \n",
    "        return new_value\n",
    "\n",
    "fibonacci_B(30)"
   ]
  },
  {
   "cell_type": "markdown",
   "metadata": {
    "slideshow": {
     "slide_type": "slide"
    }
   },
   "source": [
    "### Factorial time complexity: $O(n!)$\n",
    "<img src=\"imgs/fact.png\" width=80%>\n",
    "\n",
    "A code has **factorial time complexity** when the number of operations equals the factorial of the input size."
   ]
  },
  {
   "cell_type": "code",
   "execution_count": 2,
   "metadata": {
    "ExecuteTime": {
     "end_time": "2020-12-30T17:40:27.417722Z",
     "start_time": "2020-12-30T17:40:27.409436Z"
    },
    "slideshow": {
     "slide_type": "slide"
    }
   },
   "outputs": [
    {
     "name": "stdout",
     "output_type": "stream",
     "text": [
      "24 ['PWSA', 'PWAS', 'PSWA', 'PSAW', 'PAWS', 'PASW', 'WPSA', 'WPAS', 'WSPA', 'WSAP', 'WAPS', 'WASP', 'SPWA', 'SPAW', 'SWPA', 'SWAP', 'SAPW', 'SAWP', 'APWS', 'APSW', 'AWPS', 'AWSP', 'ASPW', 'ASWP']\n"
     ]
    }
   ],
   "source": [
    "from itertools import permutations \n",
    "\n",
    "# all permutations of CS1P: O(4!)\n",
    "\n",
    "all_permutations = []\n",
    "for p in permutations('PWSA'):\n",
    "    all_permutations.append(''.join(p))\n",
    "\n",
    "print(len(all_permutations), all_permutations)"
   ]
  },
  {
   "cell_type": "markdown",
   "metadata": {
    "slideshow": {
     "slide_type": "notes"
    }
   },
   "source": [
    "<b>Note:</b> This is the worst!"
   ]
  },
  {
   "cell_type": "markdown",
   "metadata": {
    "slideshow": {
     "slide_type": "skip"
    }
   },
   "source": [
    "# Why is all this so important?\n",
    "- to design efficient algorithms\n",
    "- identify bottlenecks in codes\n",
    "- better use of limited resources\n",
    "- to ace programming interviews"
   ]
  },
  {
   "cell_type": "markdown",
   "metadata": {
    "slideshow": {
     "slide_type": "slide"
    }
   },
   "source": [
    "# Time complexity of some Python operations\n",
    "\n",
    "* We will study the time complexity of the most common Python operations with respect to the data types on which we can perform these operations on.\n",
    "* The time complexity of assigning a value to a variable name and that of performing basic operations on integers (`+`, `==`, `%`, ...) is $O(1)$."
   ]
  },
  {
   "cell_type": "markdown",
   "metadata": {
    "slideshow": {
     "slide_type": "slide"
    }
   },
   "source": [
    "### Lists\n",
    "\n",
    "$L$ and $L'$ are lists, $n = $ len($L$).\n",
    "\n",
    "<br>\n",
    "\n",
    "| Operation            |   Illustration       |   Complexity         |\n",
    "| -------------------- | -------------------- | -------------------- |\n",
    "| construction         | `list(...)`             | $O$(`len`(...))      |\n",
    "| index                | $L$[ i ]               | $O(1)$               |\n",
    "| length               | `len`($L$)               | $O(1)$               |\n",
    "| append               | $L$.append($15$)         | $O(1)$               |\n",
    "| pop                  | $L$.pop()              | $O(1)$               |\n",
    "| pop                  | $L$.pop(0)             | $O(n)$               |\n",
    "| slicing              | $L$[ x : y ]           | $O(y-x)$             |\n",
    "| copy                 | $L$.copy()             | $O(n)$               |\n",
    "| equality             | $L$ == $L'$             | $O(n)$               |\n",
    "| delete               | `del` $L$[ i ]           | $O(n)$               |\n",
    "| remove               | $L$.remove($15$)        | $O(n)$               |\n",
    "| membership  &nbsp;&nbsp;&nbsp;&nbsp;&nbsp;&nbsp;&nbsp;&nbsp;&nbsp;       | $2$ in $L$ or $2$ not in $L$ &nbsp;&nbsp;&nbsp;&nbsp;&nbsp;&nbsp;&nbsp;&nbsp;&nbsp;| $O(n)$               |\n",
    "| reverse              | $L$.reverse()          | $O(n)$               |\n",
    "| iterate              | `for` elt `in` $L$         | $O(n)$               |\n",
    "| sort                 | $L$.sort()             | $O(n\\;log\\;n)$ &nbsp;&nbsp;&nbsp;&nbsp;&nbsp;&nbsp;&nbsp;&nbsp;&nbsp;&nbsp;&nbsp;&nbsp;&nbsp;&nbsp;&nbsp;&nbsp;&nbsp;&nbsp;&nbsp;&nbsp;&nbsp;&nbsp;&nbsp;&nbsp;&nbsp;&nbsp;  |\n",
    "| min or max           | min($L$) or max($L$)     | $O(n)$               |\n"
   ]
  },
  {
   "cell_type": "markdown",
   "metadata": {
    "slideshow": {
     "slide_type": "slide"
    }
   },
   "source": [
    "### Tuples\n",
    "\n",
    "All of the operations that tuples have in common with lists have the same time complexity as that of lists."
   ]
  },
  {
   "cell_type": "markdown",
   "metadata": {
    "slideshow": {
     "slide_type": "slide"
    }
   },
   "source": [
    "<br>\n",
    "\n",
    "### Sets\n",
    "\n",
    "$S_1$ and $S_2$ are sets, $n_1 = $ len($S_1$) and $n_2 = $ len($S_2$).\n",
    "<br>\n",
    "\n",
    "| Operation            |   Illustration       |   Complexity         |\n",
    "| -------------------- | -------------------- | -------------------- |\n",
    "| construction         | `set(...)`             | $O$(`len`(...))      |\n",
    "| length               | `len`($S_1$)               | $O(1)$               |\n",
    "| add                  | $S_1$.add($2$)            | $O(1)$               |\n",
    "| pop                  | $S_1$.pop()              | $O(1)$               |\n",
    "| copy                 | $S_1$.copy()             | $O(n_1)$               |\n",
    "| clear                 | $S_1$.clear()           | $O(n_1)$               |\n",
    "| equality             | $S_1$ == $S_2$             | $O(\\min(n_1, n_2))$ |\n",
    "| discard               | $S$.discard($3$)      | $O(1)$               |\n",
    "| ** remove               | $S$.remove($2$)        | $O(1)$               |\n",
    "| ** membership         | $2$ in $S$ or $2$ not in $S$ | $O(1)$ |\n",
    "| iterate              | `for` elt `in` $S_1$         | $O(n_1)$               |\n",
    "| superset             | $S_1$ $\\geq $ $S_2$          | $O(n_1)$       |\n",
    "| subset               | $S_1$ $\\leq $ $S_2$          | $O(n_2)$       |\n",
    "| intersection         | $S_1 ~\\&~ S_2$         | $O(\\min(n_1, n_2))$  |\n",
    "| difference           | $S_1 ~ - ~ S_2$             | $O(n_1)$       |\n",
    "| symmetric difference &nbsp;&nbsp;&nbsp; | $S_1$ ^ $S_2$             | $O(n_1+n_2)$       |\n",
    "\n",
    "<br>\n",
    "\n",
    "** These operations have a better time complexity for sets than lists. The fact that lists maintain the order of its elements makes the operations computationally expensive."
   ]
  },
  {
   "cell_type": "code",
   "execution_count": null,
   "metadata": {
    "slideshow": {
     "slide_type": "skip"
    }
   },
   "outputs": [],
   "source": [
    "#| union                | $S_1 | S_2$          | $O(n_1+n_2)$       |"
   ]
  },
  {
   "cell_type": "code",
   "execution_count": 18,
   "metadata": {
    "ExecuteTime": {
     "end_time": "2020-12-30T17:46:51.603217Z",
     "start_time": "2020-12-30T17:46:51.596497Z"
    },
    "slideshow": {
     "slide_type": "slide"
    }
   },
   "outputs": [],
   "source": [
    "A = [i for i in range(10_000)] # a list, e.g., [1,2,3,4]\n",
    "B = A[::-1] # deep copy of A, still a list, = [4,3,2,1]\n",
    "C = set(A) # covert list A to a set,  = {1,2,3,4}"
   ]
  },
  {
   "cell_type": "code",
   "execution_count": 19,
   "metadata": {
    "ExecuteTime": {
     "end_time": "2020-12-30T17:47:12.902061Z",
     "start_time": "2020-12-30T17:47:01.706024Z"
    },
    "slideshow": {
     "slide_type": "slide"
    }
   },
   "outputs": [
    {
     "name": "stdout",
     "output_type": "stream",
     "text": [
      "1.6 s ± 59.7 ms per loop (mean ± std. dev. of 7 runs, 1 loop each)\n"
     ]
    }
   ],
   "source": [
    "%%timeit -n 1\n",
    "\n",
    "# A - list\n",
    "# B - list\n",
    "\n",
    "for i in A:\n",
    "    if i not in B:\n",
    "        print(\"This should never print!\") \n",
    "\n",
    "# O(n^2)"
   ]
  },
  {
   "cell_type": "code",
   "execution_count": 21,
   "metadata": {
    "ExecuteTime": {
     "end_time": "2020-12-30T17:47:28.126605Z",
     "start_time": "2020-12-30T17:47:20.814163Z"
    },
    "slideshow": {
     "slide_type": "slide"
    }
   },
   "outputs": [
    {
     "name": "stdout",
     "output_type": "stream",
     "text": [
      "1.04 ms ± 39.3 µs per loop (mean ± std. dev. of 7 runs, 1000 loops each)\n"
     ]
    }
   ],
   "source": [
    "%%timeit -n 1000\n",
    "\n",
    "# A - list\n",
    "# C - set\n",
    "\n",
    "for i in A:\n",
    "    if i not in C:\n",
    "        print(\"That is not possible!\")  \n",
    "        \n",
    "# O(n)"
   ]
  },
  {
   "cell_type": "markdown",
   "metadata": {
    "slideshow": {
     "slide_type": "slide"
    }
   },
   "source": [
    "<br>\n",
    "\n",
    "### Dictionaries\n",
    "\n",
    "$D$ is a dictionary of type `dict` or `defaultdict` and $n = $ len($D$).\n",
    "<br>\n",
    "\n",
    "| Operation            |   Illustration       |   Complexity         |\n",
    "| -------------------- | -------------------- | -------------------- |\n",
    "| construction &nbsp;&nbsp;&nbsp;&nbsp;&nbsp;&nbsp;&nbsp;&nbsp;&nbsp;&nbsp;&nbsp;&nbsp;&nbsp;&nbsp;&nbsp;&nbsp;&nbsp;&nbsp;&nbsp;&nbsp;         | `dict(...)`             | $O$(len(...))      |\n",
    "| length               | `len`($D$)               | $O(1)$               |\n",
    "| index               | $D$[k]               | $O(1)$               |\n",
    "| store               | $D$[k] = v               | $O(1)$               |\n",
    "| delete               | `del` $D$[k]          | $O(1)$               |\n",
    "| pop                  | $D$.pop(k)              | $O(1)$               |\n",
    "| pop item            | $D$.popitem()    &nbsp;&nbsp;&nbsp;&nbsp;&nbsp;&nbsp;&nbsp;&nbsp;&nbsp;&nbsp;&nbsp;&nbsp;&nbsp;&nbsp;&nbsp;&nbsp;&nbsp;&nbsp;&nbsp;&nbsp;          | $O(1)$               |\n",
    "| keys                 | $D$.keys()             | $O(n)$               |\n",
    "| clear                 | $D$.clear()           | $O(1)$               |\n",
    "| iteration                 | `for` k `in` $D$:          | $O(n)$               |"
   ]
  },
  {
   "cell_type": "markdown",
   "metadata": {
    "ExecuteTime": {
     "end_time": "2020-11-21T17:47:16.752181Z",
     "start_time": "2020-11-21T17:47:16.734767Z"
    },
    "slideshow": {
     "slide_type": "slide"
    }
   },
   "source": [
    "# Analysing the overall time complexity of a program\n",
    "There are two rules to consider when combining big-O notations: \n",
    "* rule of addition\n",
    "* rule of multiplication."
   ]
  },
  {
   "cell_type": "markdown",
   "metadata": {
    "ExecuteTime": {
     "end_time": "2020-11-21T17:47:16.752181Z",
     "start_time": "2020-11-21T17:47:16.734767Z"
    },
    "slideshow": {
     "slide_type": "slide"
    }
   },
   "source": [
    "## The rule of addition\n",
    "\n",
    "* Rule of addition applies to **sequential operations**."
   ]
  },
  {
   "cell_type": "code",
   "execution_count": 18,
   "metadata": {
    "ExecuteTime": {
     "end_time": "2020-11-23T17:17:22.702079Z",
     "start_time": "2020-11-23T17:17:22.647637Z"
    },
    "slideshow": {
     "slide_type": "slide"
    }
   },
   "outputs": [
    {
     "ename": "NameError",
     "evalue": "name 'A' is not defined",
     "output_type": "error",
     "traceback": [
      "\u001b[0;31m---------------------------------------------------------------------------\u001b[0m",
      "\u001b[0;31mNameError\u001b[0m                                 Traceback (most recent call last)",
      "Input \u001b[0;32mIn [18]\u001b[0m, in \u001b[0;36m<cell line: 6>\u001b[0;34m()\u001b[0m\n\u001b[1;32m      1\u001b[0m \u001b[38;5;66;03m# A is an unsorted list with n elements\u001b[39;00m\n\u001b[1;32m      2\u001b[0m \n\u001b[1;32m      3\u001b[0m \n\u001b[1;32m      4\u001b[0m \u001b[38;5;66;03m# the square of each element in A\u001b[39;00m\n\u001b[1;32m      5\u001b[0m B \u001b[38;5;241m=\u001b[39m []                \u001b[38;5;66;03m# O(1)\u001b[39;00m\n\u001b[0;32m----> 6\u001b[0m \u001b[38;5;28;01mfor\u001b[39;00m i \u001b[38;5;129;01min\u001b[39;00m \u001b[43mA\u001b[49m:           \u001b[38;5;66;03m# O(n)\u001b[39;00m\n\u001b[1;32m      7\u001b[0m     B\u001b[38;5;241m.\u001b[39mappend(i\u001b[38;5;241m*\u001b[39m\u001b[38;5;241m*\u001b[39m\u001b[38;5;241m2\u001b[39m)    \u001b[38;5;66;03m# O(1)\u001b[39;00m\n\u001b[1;32m     10\u001b[0m \u001b[38;5;66;03m# sort B\u001b[39;00m\n",
      "\u001b[0;31mNameError\u001b[0m: name 'A' is not defined"
     ]
    }
   ],
   "source": [
    "# A is an unsorted list with n elements\n",
    "\n",
    "\n",
    "# the square of each element in A\n",
    "B = []                # O(1)\n",
    "for i in A:           # O(n)\n",
    "    B.append(i**2)    # O(1)\n",
    "\n",
    "    \n",
    "# sort B\n",
    "B.sort()              # O(n log n)\n",
    "\n",
    "\n",
    "# total time complexity is\n",
    "# O(n) + O(n log n) \n",
    "# = O(n + n log n) \n",
    "# = O(n log n)"
   ]
  },
  {
   "cell_type": "markdown",
   "metadata": {
    "ExecuteTime": {
     "end_time": "2020-11-21T17:47:16.752181Z",
     "start_time": "2020-11-21T17:47:16.734767Z"
    },
    "slideshow": {
     "slide_type": "slide"
    }
   },
   "source": [
    "Let $f(n)$ and $g(n)$ be two functions. We have that $$O(f(n)) + O(g(n)) = O(f(n) + g(n)) = O(\\max\\{f(n), g(n)\\}).$$ \n",
    "\n",
    "* When we add two or more big-O functions, the result is always the bigger of all the functions.\n",
    "\n",
    "* For example, $O(n^2) + O(n) + O(1) = O(n^2 + n + 1) = O(n^2)$, because the graph of $n^2$ grows faster than that of $n$, and $1$ is just a constant."
   ]
  },
  {
   "cell_type": "code",
   "execution_count": null,
   "metadata": {
    "ExecuteTime": {
     "end_time": "2020-11-23T17:17:22.702079Z",
     "start_time": "2020-11-23T17:17:22.647637Z"
    },
    "slideshow": {
     "slide_type": "slide"
    }
   },
   "outputs": [],
   "source": [
    "# if statements are also sequential operations\n",
    "\n",
    "# A is an unsorted list with n elements\n",
    "\n",
    "# the sum of elements in A\n",
    "sum_A = sum(A)                 # O(n)\n",
    "\n",
    "if  sum_A < 1_000_000:         # O(1)   \n",
    "    print('Acceptable')        # O(1) \n",
    "else:    \n",
    "    print('Not acceptable')    # O(1)\n",
    "    B = []                     # O(1)\n",
    "    for i in A:                # O(n)\n",
    "        B.append(i**2)         # O(1)\n",
    "\n",
    "# total time complexity\n",
    "# O(n) + [ O(1) + max( O(1), O(n) ) ] \n",
    "# = O(n) + O(n) \n",
    "# = O(2n) \n",
    "# = O(n)"
   ]
  },
  {
   "cell_type": "markdown",
   "metadata": {
    "ExecuteTime": {
     "end_time": "2020-11-21T17:47:16.752181Z",
     "start_time": "2020-11-21T17:47:16.734767Z"
    },
    "slideshow": {
     "slide_type": "slide"
    }
   },
   "source": [
    "<br>\n",
    "\n",
    "### The rule of multiplication\n",
    "$$O(f(n)) \\times O(g(n)) = O(f(n) \\times g(n)).$$ \n",
    "\n",
    "For example, $O(n) \\times O(\\log n) = O(n \\log n)$.\n",
    "\n",
    "This rule applies when we want to calculate the complexity of **nested operations**.\n"
   ]
  },
  {
   "cell_type": "code",
   "execution_count": null,
   "metadata": {
    "ExecuteTime": {
     "end_time": "2020-11-23T14:59:22.571830Z",
     "start_time": "2020-11-23T14:59:22.556891Z"
    },
    "slideshow": {
     "slide_type": "slide"
    }
   },
   "outputs": [],
   "source": [
    "# A is an unsorted list with n elements\n",
    "\n",
    "# the square of each element in a\n",
    "B = []                   # O(1)\n",
    "for i in A:              # O(n)\n",
    "    B.append(i**2)       # O(1)\n",
    "\n",
    "# the cartesian product of a and b\n",
    "C = []                   # O(1)\n",
    "for i in A:              # O(n)\n",
    "    for j in B:          # O(n)\n",
    "        C.append((i,j))  # O(1)\n",
    "\n",
    "\n",
    "# total time complexity is\n",
    "# O(n) + [O(n)*O(n)] \n",
    "# = O(n) + O(n^2)\n",
    "# = O(n + n^2) \n",
    "# = O(n^2)"
   ]
  },
  {
   "cell_type": "markdown",
   "metadata": {
    "slideshow": {
     "slide_type": "slide"
    }
   },
   "source": [
    "## Summary\n",
    "In this lecture, we have covered\n",
    "* Measuring code efficiency with respect to time\n",
    "* Why `timeit` is not a good measure of time complexity\n",
    "* The Big-O notation and the most common Big-O notations\n",
    "* Big-O of lists, tuples, set and dictionaries\n",
    "* Analysing the overall time complexity of a program"
   ]
  }
 ],
 "metadata": {
  "hide_input": false,
  "kernelspec": {
   "display_name": "Python 3 (ipykernel)",
   "language": "python",
   "name": "python3"
  },
  "language_info": {
   "codemirror_mode": {
    "name": "ipython",
    "version": 3
   },
   "file_extension": ".py",
   "mimetype": "text/x-python",
   "name": "python",
   "nbconvert_exporter": "python",
   "pygments_lexer": "ipython3",
   "version": "3.8.12"
  },
  "latex_envs": {
   "LaTeX_envs_menu_present": true,
   "autoclose": false,
   "autocomplete": true,
   "bibliofile": "biblio.bib",
   "cite_by": "apalike",
   "current_citInitial": 1,
   "eqLabelWithNumbers": true,
   "eqNumInitial": 1,
   "hotkeys": {
    "equation": "Ctrl-E",
    "itemize": "Ctrl-I"
   },
   "labels_anchors": false,
   "latex_user_defs": false,
   "report_style_numbering": false,
   "user_envs_cfg": false
  },
  "toc": {
   "base_numbering": 1,
   "nav_menu": {},
   "number_sections": true,
   "sideBar": true,
   "skip_h1_title": true,
   "title_cell": "Table of Contents",
   "title_sidebar": "Contents",
   "toc_cell": false,
   "toc_position": {
    "height": "calc(100% - 180px)",
    "left": "10px",
    "top": "150px",
    "width": "465.498px"
   },
   "toc_section_display": true,
   "toc_window_display": false
  }
 },
 "nbformat": 4,
 "nbformat_minor": 4
}
