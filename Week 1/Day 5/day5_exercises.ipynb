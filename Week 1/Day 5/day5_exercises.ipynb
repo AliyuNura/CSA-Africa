{
 "cells": [
  {
   "cell_type": "markdown",
   "id": "b22aba81",
   "metadata": {},
   "source": [
    "## 1. Did you manage yesterday's problems?\n",
    "\n",
    "If you haven't yet done so, please spend some time working on yesterday's problems, including the optional problems at the end."
   ]
  },
  {
   "cell_type": "code",
   "execution_count": 3,
   "id": "8a8a8c31",
   "metadata": {},
   "outputs": [],
   "source": [
    "# nothing to do here"
   ]
  },
  {
   "cell_type": "markdown",
   "id": "faa0dc67",
   "metadata": {},
   "source": [
    "## 2. Python Presto Pizza Co.\n",
    "\n",
    "![Python Presto Pizza Co.](data/yes_the_name_is_trademarked_thanks_for_asking.png \"Python Presto Pizza Co.\")\n",
    "\n",
    "You've decided to open a pizza restaurant. To help manage your kitchen, you've decided to implement an order management system. Each order will be contained in an individual file that looks like this:\n",
    "\n",
    "```\n",
    "1 margherita\n",
    "3 pepperoni\n",
    "1 tuna\n",
    "1 mushroom\n",
    "2 four cheese\n",
    "```\n",
    "\n",
    "Each line contains the number of that pizza that the order contains. You need to write a function that will read in an order file, and produce a list of the ingredients that are needed to make the pizzas that have been ordered. To allow you to calculate this, `recipes.txt` has been provided (in the `data` directory). This file contains the recipes for the pizzas that your restaurant sells. It is structured like this:\n",
    "\n",
    "```\n",
    "margherita:tomato mozzarella garlic basil\n",
    "tuna:tomato mozzarella tuna onion\n",
    "pepperoni:tomato mozzarella pepperoni\n",
    "mushroom:tomato mozzarella garlic mushrooms\n",
    "four cheese:tomato mozzarella cheddar parmesan gorgonzola\n",
    "hawaiian:tomato mozzarella ham pineapple\n",
    "```\n",
    "\n",
    "Each recipe requires 1 unit of each ingredient listed. **Your solution must read in the recipes.txt file, rather than using hard-coded values.**\n",
    "\n",
    "Your program should output a list of the needed ingredients for a given order file. The list should be ordered by the number of each ingredient needed, with the ingredient that we need most of listed first. So, based on the example order above, your program would output:\n",
    "\n",
    "```\n",
    "8 x tomato \n",
    "8 x mozzarella\n",
    "3 x pepperoni\n",
    "1 x garlic\n",
    "1 x basil\n",
    "1 x tuna\n",
    "1 x onion\n",
    "1 x mushrooms\n",
    "1 x cheddar\n",
    "1 x parmesan\n",
    "1 x gorgonzola\n",
    "```\n",
    "\n",
    "You should begin by writing a plan for how you'll structure your program. In particular, think about the inputs to your program, what the program needs to do, and what your program needs to produce. Consider the data structures that you require to help you."
   ]
  },
  {
   "cell_type": "code",
   "execution_count": 4,
   "id": "f291b753",
   "metadata": {},
   "outputs": [
    {
     "data": {
      "text/plain": [
       "\"\\nFirstly, the program will use two inputs:\\n 1. A recipe file that indicates the ingredients needed per pizza type.\\n 2. An order file that specifies how much of each pizza type was ordered.\\n\\nThe output should be a list of ingredients that will be needed to satisfy\\nthe order gotten in the order file inputted. The list should be sorted with\\ningredients that are most needed occuring first in the list.\\n\\nI'm planning to first take in the recipe file, then split it at the colon character.\\nThat will give an array of pizza type and a string that lists it's ingredients. I'll\\nprobably have to split that string of ingredients into a list. Then create a dictionary\\nthat have the pizza type as a key, with a list of ingredients needed to make it as its value.\\n\\nThen, I'll take in the order file, then split it into a list with each amount and the value\\nas tuples in the list.\\n\""
      ]
     },
     "execution_count": 4,
     "metadata": {},
     "output_type": "execute_result"
    }
   ],
   "source": [
    "# write your plan here\n",
    "\n",
    "'''\n",
    "Firstly, the program will use two inputs:\n",
    " 1. A recipe file that indicates the ingredients needed per pizza type.\n",
    " 2. An order file that specifies how much of each pizza type was ordered.\n",
    "\n",
    "The output should be a list of ingredients that will be needed to satisfy\n",
    "the order gotten in the order file inputted. The list should be sorted with\n",
    "ingredients that are most needed occuring first in the list.\n",
    "\n",
    "I'm planning to first take in the recipe file, then split it at the colon character.\n",
    "That will give an array of pizza type and a string that lists it's ingredients. I'll\n",
    "probably have to split that string of ingredients into a list. Then create a dictionary\n",
    "that have the pizza type as a key, with a list of ingredients needed to make it as its value.\n",
    "\n",
    "Then, I'll take in the order file, then split it into a list with each amount and the value\n",
    "as tuples in the list.\n",
    "'''\n"
   ]
  },
  {
   "cell_type": "markdown",
   "id": "c9f5f918",
   "metadata": {},
   "source": [
    "Now, you can implement your plan. We've provided three order files in the `data` directory to allow you to test your program."
   ]
  },
  {
   "cell_type": "code",
   "execution_count": 5,
   "id": "04bd2bc3",
   "metadata": {},
   "outputs": [
    {
     "name": "stdout",
     "output_type": "stream",
     "text": [
      "7 x tomato\n",
      "7 x mozzarella\n",
      "3 x ham\n",
      "3 x pineapple\n",
      "2 x tuna\n",
      "2 x onion\n",
      "1 x garlic\n",
      "1 x basil\n",
      "1 x pepperoni\n"
     ]
    }
   ],
   "source": [
    "# write your solution here\n",
    "def read_file(filename, type_of_file):\n",
    "    with open(filename) as fileToBeWorkedOn:\n",
    "        if type_of_file == 'recipe':\n",
    "            recipe_and_ingredients = {}\n",
    "            for entry in fileToBeWorkedOn:\n",
    "                entry = entry.strip().split(':')\n",
    "                recipe_and_ingredients[entry[0]] = entry[1].split()\n",
    "            return recipe_and_ingredients\n",
    "        else:\n",
    "            order_and_amount = []\n",
    "            for entry in fileToBeWorkedOn:\n",
    "                entry = (entry[0], entry[1:].strip())\n",
    "                order_and_amount.append(entry)\n",
    "            return order_and_amount\n",
    "\n",
    "order = read_file('data/order1.txt', 'order')\n",
    "ingredients_for_pizzas = read_file('data/recipes.txt', 'recipe')\n",
    "\n",
    "def go_through_order(order_list, ingredients_list):\n",
    "    ingredients_needed = {}\n",
    "    for amount, order in order_list:\n",
    "        for ingredient in ingredients_list[order]:\n",
    "            if ingredient not in ingredients_needed:\n",
    "                ingredients_needed[ingredient] = 0\n",
    "            ingredients_needed[ingredient] += int(amount)\n",
    "    sorted_ingredients_needed = sorted(ingredients_needed.items(), key=lambda x: x[1], reverse=True)\n",
    "    for order, amount in sorted_ingredients_needed:\n",
    "        print(f'{amount} x {order}')\n",
    "\n",
    "go_through_order(order, ingredients_for_pizzas)"
   ]
  },
  {
   "cell_type": "markdown",
   "id": "8d706aa9",
   "metadata": {},
   "source": [
    "## 2.1. Adding robustness\n",
    "\n",
    "You should make your pizza ordering program more robust, by detecting and/or handling various errors that might occur. There are lots of things that can go wrong:\n",
    "- the order file might not exist;\n",
    "- the recipes file might not exist;\n",
    "- the files not be in the correct format;\n",
    "- sometimes, the orders contain requests for menu items that don't exist in `recipes.txt`.\n",
    "\n",
    "Modify your pizza ordering program to detect or handle as many errors as you can think of. Sometimes, this means handling exceptions that Python raises (like that raised if we try to open a file that doesn't exist). We can also raise our own exceptions, or use other flow-control statements - like `if`s -- to ensure that our program continues to run as expected."
   ]
  },
  {
   "cell_type": "code",
   "execution_count": 6,
   "id": "0e648473",
   "metadata": {},
   "outputs": [
    {
     "name": "stdout",
     "output_type": "stream",
     "text": [
      "The file you wanted to read was not found! \n",
      " Confirm the file path inputted\n",
      "The parameters you passed in weren't what we expected!\n",
      " Make sure you're passing in the right things\n"
     ]
    }
   ],
   "source": [
    "# modify your solution above\n",
    "def read_file(filename, type_of_file):\n",
    "    try:\n",
    "        with open(filename) as fileToBeWorkedOn:\n",
    "            if type_of_file == 'recipe':\n",
    "                recipe_and_ingredients = {}\n",
    "                for entry in fileToBeWorkedOn:\n",
    "                    entry = entry.strip().split(':')\n",
    "                    recipe_and_ingredients[entry[0]] = entry[1].split()\n",
    "                return recipe_and_ingredients\n",
    "            else:\n",
    "                order_and_amount = []\n",
    "                for entry in fileToBeWorkedOn:\n",
    "                    entry = (entry[0], entry[1:].strip())\n",
    "                    order_and_amount.append(entry)\n",
    "                return order_and_amount\n",
    "    except FileNotFoundError:\n",
    "        print('The file you wanted to read was not found! \\n Confirm the file path inputted')\n",
    "    except: \n",
    "        print(\"Sincerely, I don't know what is going on at this point\")\n",
    "\n",
    "order = read_file('data/order4.txt', 'order')\n",
    "ingredients_for_pizzas = read_file('data/recipes.txt', 'recipe')\n",
    "\n",
    "def go_through_order(order_list, ingredients_list):\n",
    "    ingredients_needed = {}\n",
    "    try:\n",
    "        for amount, order in order_list:\n",
    "            try:\n",
    "                for ingredient in ingredients_list[order]:\n",
    "                    if ingredient not in ingredients_needed:\n",
    "                        ingredients_needed[ingredient] = 0\n",
    "                    ingredients_needed[ingredient] += int(amount)\n",
    "            except KeyError:\n",
    "                print(f\"One of the orders, {order}, isn't in our recipe file\")\n",
    "            except: \n",
    "                print(\"Sincerely, I don't know what is going on at this point\")\n",
    "        sorted_ingredients_needed = sorted(ingredients_needed.items(), key=lambda x: x[1], reverse=True)\n",
    "        for order, amount in sorted_ingredients_needed:\n",
    "            print(f'{amount} x {order}')\n",
    "    except TypeError:\n",
    "        print(\"The parameters you passed in weren't what we expected!\\n Make sure you're passing in the right things\")\n",
    "    except: \n",
    "        print(\"Sincerely, I don't know what is going on at this point. Something is wrong with the algorithm!\")\n",
    "\n",
    "\n",
    "go_through_order(order, ingredients_for_pizzas)"
   ]
  },
  {
   "cell_type": "markdown",
   "id": "698f299b",
   "metadata": {},
   "source": [
    "## Optional: 3. Birthday book\n",
    "\n",
    "In this exercise, you'll write a program that manages people's birthdays. Your program will read in people's birthdays and produce reminders of those that are coming up. We can represent birthdays using a dictionary:\n",
    "\n",
    "`{\"month\": \"Dec\", \"day\": 17}`\n",
    "\n",
    "The _birthday book_ is a dictionary where the keys are people's names, and the corresponding values are their birthdays, as represented with a dictionary in the format above. You'll write several functions to manage the birthday book. Before you start coding, read through all of the functions that you'll be implementing. This will make sure that you can plan to use the correct data structures.\n",
    "\n",
    "First, instantiate a birthday book, and populate it with some sample people and birthdays:"
   ]
  },
  {
   "cell_type": "code",
   "execution_count": 7,
   "id": "782dc0e8",
   "metadata": {},
   "outputs": [],
   "source": [
    "# write your solution here\n",
    "birthday_book = {\n",
    "    'Feros': {'month': 'Nov', 'day': 12},\n",
    "    'Moyin': {'month': 'May', 'day': 21},\n",
    "    'Matthew': {'month': 'Dec', 'day': 9},\n",
    "    'Matthew': {'month': 'Dec', 'day': 30},\n",
    "    'Bayo': {'month': 'Aug', 'day': 2},\n",
    "    'Hanif': {'month': 'Jan', 'day': 29},\n",
    "    'Quadri': {'month': 'Sep', 'day': 3},\n",
    "    'Dedayo': {'month': 'Jan', 'day': 1},\n",
    "    'Moses': {'month': 'Jan', 'day': 2},\n",
    "    'Kunle': {'month': 'Jan', 'day': 4},\n",
    "    'Sidiq': {'month': 'Jan', 'day': 28},\n",
    "    'Ope': {'month': 'Jan', 'day': 30},\n",
    "    'Tolu': {'month': 'Jul', 'day': 31},\n",
    "    'Wahab': {'month': 'Feb', 'day': 25},\n",
    "    'Faith': {'month': 'Mar', 'day': 8},\n",
    "    'Esther': {'month': 'Apr', 'day': 29},\n",
    "    'Lasisi': {'month': 'Jun', 'day': 21},\n",
    "    'Mirabel': {'month': 'Oct', 'day': 17},\n",
    "    'Nonso': {'month': 'Feb', 'day': 2},\n",
    "}"
   ]
  },
  {
   "cell_type": "markdown",
   "id": "bb89c40f",
   "metadata": {},
   "source": [
    "Next, define a function that, given a person's name, prints a message containing their birthday."
   ]
  },
  {
   "cell_type": "code",
   "execution_count": 8,
   "id": "f20f6b5e",
   "metadata": {},
   "outputs": [
    {
     "name": "stdout",
     "output_type": "stream",
     "text": [
      "Bayo's birthday is on Aug 2\n"
     ]
    }
   ],
   "source": [
    "# write your solution here\n",
    "def say_birthday(person):\n",
    "    person = person.capitalize()\n",
    "    print(f\"{person}'s birthday is on {birthday_book[person]['month']} {birthday_book[person]['day']}\")\n",
    "\n",
    "say_birthday('bayo')"
   ]
  },
  {
   "cell_type": "markdown",
   "id": "d1711bab",
   "metadata": {},
   "source": [
    "Next, define a function that, given a month, prints a list of all the people who have birthdays in that month, with the date of their birthday."
   ]
  },
  {
   "cell_type": "code",
   "execution_count": 9,
   "id": "60ac11b6",
   "metadata": {},
   "outputs": [
    {
     "name": "stdout",
     "output_type": "stream",
     "text": [
      "Hanif's birthday is on Jan 29\n",
      "Dedayo's birthday is on Jan 1\n",
      "Moses's birthday is on Jan 2\n",
      "Kunle's birthday is on Jan 4\n",
      "Sidiq's birthday is on Jan 28\n",
      "Ope's birthday is on Jan 30\n"
     ]
    }
   ],
   "source": [
    "# write your solution here\n",
    "def check_birthdays_by_month(month):\n",
    "    month = month.capitalize()\n",
    "    for person, birthday in birthday_book.items():\n",
    "        if birthday['month'] == month:\n",
    "            print(f\"{person}'s birthday is on {birthday['month']} {birthday['day']}\")\n",
    "check_birthdays_by_month('jan')    "
   ]
  },
  {
   "cell_type": "markdown",
   "id": "75c4e060",
   "metadata": {},
   "source": [
    "Next, define a function that, given a month and date, prints a list of all of the people that have birthdays within the next 7 days, along with the date of their birthday. \n",
    "\n",
    "**Remember: some of these birthdays might be in the next month, and, if the given date is at the end of December, some of them might be in January.**"
   ]
  },
  {
   "cell_type": "code",
   "execution_count": 16,
   "id": "b2b61ec1",
   "metadata": {},
   "outputs": [
    {
     "name": "stdout",
     "output_type": "stream",
     "text": [
      "Hanif's birthday is on Jan 29\n",
      "Sidiq's birthday is on Jan 28\n",
      "Ope's birthday is on Jan 30\n",
      "Nonso's birthday is on Feb 2\n"
     ]
    }
   ],
   "source": [
    "# write your solution here\n",
    "def check_next_birthdays(month, day):\n",
    "    month = month.capitalize()\n",
    "    next_months = ['Jan','Feb','Mar','Apr','May','Jun','Jul','Aug','Sep','Oct','Nov','Dec']\n",
    "    month_max = 31\n",
    "    check_month_max = {\n",
    "        30: 'Sep Apr Jun Nov',\n",
    "        28: 'Feb'\n",
    "    }\n",
    "    for ma, str in check_month_max.items():\n",
    "        if month in str:\n",
    "            month_max = ma\n",
    "            break\n",
    "    max = day + 7\n",
    "    if max > month_max:\n",
    "        max = (month_max, max - month_max)\n",
    "    if type(max) is int:\n",
    "        for person, birthday in birthday_book.items():\n",
    "            if birthday['month'] == month and birthday['day'] > day and birthday['day'] <= max:\n",
    "                print(f\"{person}'s birthday is on {birthday['month']} {birthday['day']}\")\n",
    "    elif type(max) is tuple:\n",
    "        lilac = []\n",
    "        if next_months[-1] == month:\n",
    "            lilac = [month, next_months[0]]\n",
    "        else:\n",
    "            lilac = [month, next_months[next_months.index(month) + 1]]\n",
    "        for person, birthday in birthday_book.items():\n",
    "            if lilac[0] == birthday['month'] and birthday['day'] > day and birthday['day'] <= max[0]:\n",
    "                print(f\"{person}'s birthday is on {birthday['month']} {birthday['day']}\")\n",
    "            elif birthday['month'] == lilac[1] and birthday['day'] <= max[1]:\n",
    "                print(f\"{person}'s birthday is on {birthday['month']} {birthday['day']}\")\n",
    "\n",
    "\n",
    "        \n",
    "\n",
    "check_next_birthdays('jan', 27)\n",
    "        "
   ]
  },
  {
   "cell_type": "markdown",
   "id": "c5050ec8",
   "metadata": {},
   "source": [
    "Finally, write a function that will produce a birthday book from a file containing birthday data. The format of this file is as shown:\n",
    "\n",
    "```\n",
    "Bob,Apr,12\n",
    "Alice,Dec,6\n",
    "Joe,Feb,16\n",
    "```\n",
    "\n",
    "A sample file is given in the `data` directory."
   ]
  },
  {
   "cell_type": "code",
   "execution_count": 11,
   "id": "daf51a0b",
   "metadata": {},
   "outputs": [
    {
     "data": {
      "text/plain": [
       "{'Joe': {'month': 'Dec', 'day': 9},\n",
       " 'Susan': {'month': 'Apr', 'day': 12},\n",
       " 'Stephen': {'month': 'Dec', 'day': 8},\n",
       " 'Alice': {'month': 'Jun', 'day': 12},\n",
       " 'Bob': {'month': 'Dec', 'day': 24},\n",
       " 'Julie': {'month': 'Jan', 'day': 3},\n",
       " 'Artie': {'month': 'Mar', 'day': 12}}"
      ]
     },
     "execution_count": 11,
     "metadata": {},
     "output_type": "execute_result"
    }
   ],
   "source": [
    "# write your solution here\n",
    "def create_birthday_book(filename):\n",
    "    birthday_book = {}\n",
    "    with open(filename) as fileToBeWorkedOn:\n",
    "        for entry in fileToBeWorkedOn:\n",
    "            entry = entry.strip().split(',')\n",
    "            birthday_book[entry[0]] = {'month': entry[1], 'day': int(entry[2])}\n",
    "    return birthday_book\n",
    "    \n",
    "create_birthday_book('data/birthdays.txt')"
   ]
  },
  {
   "cell_type": "markdown",
   "id": "258dfed4",
   "metadata": {},
   "source": [
    "## Optional: 3.1. Adding robustness\n",
    "\n",
    "As for the pizza ordering system, you should add robustness to your birthday book program, by detecting and handling exceptions. Detect or handle as many exceptions as you can think of in your solution above."
   ]
  },
  {
   "cell_type": "code",
   "execution_count": 41,
   "id": "f42df17c",
   "metadata": {},
   "outputs": [
    {
     "name": "stdout",
     "output_type": "stream",
     "text": [
      "Sidiq's birthday is on Jan 28\n",
      "Matthew's birthday is on Dec 30\n"
     ]
    }
   ],
   "source": [
    "def say_birthday(person):\n",
    "    try:\n",
    "        person = person.capitalize()\n",
    "        print(f\"{person}'s birthday is on {birthday_book[person]['month']} {birthday_book[person]['day']}\")\n",
    "    except KeyError:\n",
    "        print(f\"{person} is not in the birthday list.\")\n",
    "    except:\n",
    "        print(\"Something unexpected just happened, I don't know what.\")\n",
    "\n",
    "say_birthday(input('Input a person to get his/her birthday date: '))\n",
    "\n",
    "def check_birthdays_by_month(month):\n",
    "    try:\n",
    "        month = ''.join(month[:3]).capitalize()\n",
    "        for person, birthday in birthday_book.items():\n",
    "            if birthday['month'] == month:\n",
    "                print(f\"{person}'s birthday is on {birthday['month']} {birthday['day']}\")\n",
    "    except KeyError:\n",
    "        print(f\"{month} is not a defined month in the birthday book\")\n",
    "    except:\n",
    "        print(\"Something unexpected just happened, I don't know what.\")\n",
    "    \n",
    "check_birthdays_by_month(input('Input a month to get all birthdays within that month: '))\n",
    "\n"
   ]
  }
 ],
 "metadata": {
  "kernelspec": {
   "display_name": "Python 3.9.12 ('base')",
   "language": "python",
   "name": "python3"
  },
  "language_info": {
   "codemirror_mode": {
    "name": "ipython",
    "version": 3
   },
   "file_extension": ".py",
   "mimetype": "text/x-python",
   "name": "python",
   "nbconvert_exporter": "python",
   "pygments_lexer": "ipython3",
   "version": "3.9.12"
  },
  "vscode": {
   "interpreter": {
    "hash": "abb763080e33aed623bcc580bef6173958c4b22d09a4a8dd85096a52c45bee64"
   }
  }
 },
 "nbformat": 4,
 "nbformat_minor": 5
}
