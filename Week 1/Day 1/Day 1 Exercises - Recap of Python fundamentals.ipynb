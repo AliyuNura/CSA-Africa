{
 "cells": [
  {
   "cell_type": "markdown",
   "id": "sensitive-language",
   "metadata": {
    "slideshow": {
     "slide_type": "slide"
    }
   },
   "source": [
    "# Day 1 - Exercises: Recap of Python fundamentals\n",
    "\n",
    "In today's exercises, we'll practice the material that covered in this morning's lecture.\n",
    "\n",
    "Some problems at the end of the exercise notebook are marked as _optional_. Your progress on those problems won't be assessed: these problems have been provided as an additional challenge for people that have found the earlier problems straightforward."
   ]
  },
  {
   "cell_type": "markdown",
   "id": "commercial-nothing",
   "metadata": {},
   "source": [
    "## 1. Tennis\n",
    "\n",
    "The cost of a tennis racket is £50, while a dozen balls cost £30. How much will it cost Michael if he needs 2 rackets and 4 balls?"
   ]
  },
  {
   "cell_type": "code",
   "execution_count": 346,
   "id": "changed-floating",
   "metadata": {},
   "outputs": [
    {
     "name": "stdout",
     "output_type": "stream",
     "text": [
      "110.0\n"
     ]
    }
   ],
   "source": [
    "racketPrice = 50\n",
    "ballPrice = 30 / 12\n",
    "michealCost = (2 * racketPrice) + (4 * ballPrice)\n",
    "print(michealCost)"
   ]
  },
  {
   "cell_type": "markdown",
   "id": "associate-station",
   "metadata": {},
   "source": [
    "## 2. Even numbers\n",
    "\n",
    "Using a `while` loop, print the first 200 even numbers."
   ]
  },
  {
   "cell_type": "code",
   "execution_count": 347,
   "id": "thermal-fields",
   "metadata": {},
   "outputs": [
    {
     "name": "stdout",
     "output_type": "stream",
     "text": [
      "0\n",
      "2\n",
      "4\n",
      "6\n",
      "8\n",
      "10\n",
      "12\n",
      "14\n",
      "16\n",
      "18\n",
      "20\n",
      "22\n",
      "24\n",
      "26\n",
      "28\n",
      "30\n",
      "32\n",
      "34\n",
      "36\n",
      "38\n",
      "40\n",
      "42\n",
      "44\n",
      "46\n",
      "48\n",
      "50\n",
      "52\n",
      "54\n",
      "56\n",
      "58\n",
      "60\n",
      "62\n",
      "64\n",
      "66\n",
      "68\n",
      "70\n",
      "72\n",
      "74\n",
      "76\n",
      "78\n",
      "80\n",
      "82\n",
      "84\n",
      "86\n",
      "88\n",
      "90\n",
      "92\n",
      "94\n",
      "96\n",
      "98\n",
      "100\n",
      "102\n",
      "104\n",
      "106\n",
      "108\n",
      "110\n",
      "112\n",
      "114\n",
      "116\n",
      "118\n",
      "120\n",
      "122\n",
      "124\n",
      "126\n",
      "128\n",
      "130\n",
      "132\n",
      "134\n",
      "136\n",
      "138\n",
      "140\n",
      "142\n",
      "144\n",
      "146\n",
      "148\n",
      "150\n",
      "152\n",
      "154\n",
      "156\n",
      "158\n",
      "160\n",
      "162\n",
      "164\n",
      "166\n",
      "168\n",
      "170\n",
      "172\n",
      "174\n",
      "176\n",
      "178\n",
      "180\n",
      "182\n",
      "184\n",
      "186\n",
      "188\n",
      "190\n",
      "192\n",
      "194\n",
      "196\n",
      "198\n",
      "200\n",
      "202\n",
      "204\n",
      "206\n",
      "208\n",
      "210\n",
      "212\n",
      "214\n",
      "216\n",
      "218\n",
      "220\n",
      "222\n",
      "224\n",
      "226\n",
      "228\n",
      "230\n",
      "232\n",
      "234\n",
      "236\n",
      "238\n",
      "240\n",
      "242\n",
      "244\n",
      "246\n",
      "248\n",
      "250\n",
      "252\n",
      "254\n",
      "256\n",
      "258\n",
      "260\n",
      "262\n",
      "264\n",
      "266\n",
      "268\n",
      "270\n",
      "272\n",
      "274\n",
      "276\n",
      "278\n",
      "280\n",
      "282\n",
      "284\n",
      "286\n",
      "288\n",
      "290\n",
      "292\n",
      "294\n",
      "296\n",
      "298\n",
      "300\n",
      "302\n",
      "304\n",
      "306\n",
      "308\n",
      "310\n",
      "312\n",
      "314\n",
      "316\n",
      "318\n",
      "320\n",
      "322\n",
      "324\n",
      "326\n",
      "328\n",
      "330\n",
      "332\n",
      "334\n",
      "336\n",
      "338\n",
      "340\n",
      "342\n",
      "344\n",
      "346\n",
      "348\n",
      "350\n",
      "352\n",
      "354\n",
      "356\n",
      "358\n",
      "360\n",
      "362\n",
      "364\n",
      "366\n",
      "368\n",
      "370\n",
      "372\n",
      "374\n",
      "376\n",
      "378\n",
      "380\n",
      "382\n",
      "384\n",
      "386\n",
      "388\n",
      "390\n",
      "392\n",
      "394\n",
      "396\n",
      "398\n"
     ]
    }
   ],
   "source": [
    "i = 0\n",
    "while i < 400:\n",
    "  print(i)\n",
    "  i += 2\n",
    "\n"
   ]
  },
  {
   "cell_type": "markdown",
   "id": "improving-treasurer",
   "metadata": {},
   "source": [
    "## 2.1 Even numbers, part 2\n",
    "\n",
    "Using a `for` loop, print the first 200 even numbers."
   ]
  },
  {
   "cell_type": "code",
   "execution_count": 348,
   "id": "scenic-bangladesh",
   "metadata": {},
   "outputs": [
    {
     "name": "stdout",
     "output_type": "stream",
     "text": [
      "0\n",
      "2\n",
      "4\n",
      "6\n",
      "8\n",
      "10\n",
      "12\n",
      "14\n",
      "16\n",
      "18\n",
      "20\n",
      "22\n",
      "24\n",
      "26\n",
      "28\n",
      "30\n",
      "32\n",
      "34\n",
      "36\n",
      "38\n",
      "40\n",
      "42\n",
      "44\n",
      "46\n",
      "48\n",
      "50\n",
      "52\n",
      "54\n",
      "56\n",
      "58\n",
      "60\n",
      "62\n",
      "64\n",
      "66\n",
      "68\n",
      "70\n",
      "72\n",
      "74\n",
      "76\n",
      "78\n",
      "80\n",
      "82\n",
      "84\n",
      "86\n",
      "88\n",
      "90\n",
      "92\n",
      "94\n",
      "96\n",
      "98\n",
      "100\n",
      "102\n",
      "104\n",
      "106\n",
      "108\n",
      "110\n",
      "112\n",
      "114\n",
      "116\n",
      "118\n",
      "120\n",
      "122\n",
      "124\n",
      "126\n",
      "128\n",
      "130\n",
      "132\n",
      "134\n",
      "136\n",
      "138\n",
      "140\n",
      "142\n",
      "144\n",
      "146\n",
      "148\n",
      "150\n",
      "152\n",
      "154\n",
      "156\n",
      "158\n",
      "160\n",
      "162\n",
      "164\n",
      "166\n",
      "168\n",
      "170\n",
      "172\n",
      "174\n",
      "176\n",
      "178\n",
      "180\n",
      "182\n",
      "184\n",
      "186\n",
      "188\n",
      "190\n",
      "192\n",
      "194\n",
      "196\n",
      "198\n",
      "200\n",
      "202\n",
      "204\n",
      "206\n",
      "208\n",
      "210\n",
      "212\n",
      "214\n",
      "216\n",
      "218\n",
      "220\n",
      "222\n",
      "224\n",
      "226\n",
      "228\n",
      "230\n",
      "232\n",
      "234\n",
      "236\n",
      "238\n",
      "240\n",
      "242\n",
      "244\n",
      "246\n",
      "248\n",
      "250\n",
      "252\n",
      "254\n",
      "256\n",
      "258\n",
      "260\n",
      "262\n",
      "264\n",
      "266\n",
      "268\n",
      "270\n",
      "272\n",
      "274\n",
      "276\n",
      "278\n",
      "280\n",
      "282\n",
      "284\n",
      "286\n",
      "288\n",
      "290\n",
      "292\n",
      "294\n",
      "296\n",
      "298\n",
      "300\n",
      "302\n",
      "304\n",
      "306\n",
      "308\n",
      "310\n",
      "312\n",
      "314\n",
      "316\n",
      "318\n",
      "320\n",
      "322\n",
      "324\n",
      "326\n",
      "328\n",
      "330\n",
      "332\n",
      "334\n",
      "336\n",
      "338\n",
      "340\n",
      "342\n",
      "344\n",
      "346\n",
      "348\n",
      "350\n",
      "352\n",
      "354\n",
      "356\n",
      "358\n",
      "360\n",
      "362\n",
      "364\n",
      "366\n",
      "368\n",
      "370\n",
      "372\n",
      "374\n",
      "376\n",
      "378\n",
      "380\n",
      "382\n",
      "384\n",
      "386\n",
      "388\n",
      "390\n",
      "392\n",
      "394\n",
      "396\n",
      "398\n"
     ]
    }
   ],
   "source": [
    "for i in range(0, 400, 2):\n",
    "  print(i)\n"
   ]
  },
  {
   "cell_type": "markdown",
   "id": "iraqi-correction",
   "metadata": {},
   "source": [
    "## 3. Data types\n",
    "\n",
    "Given this list:\n",
    "`data_types = [\"a\", \"b\", \"c\", 2, 4, 6, 8, 10, True, True, False, 4.5, 3.87, 11.73]`\n",
    "\n",
    "Print only:\n",
    "- the strings;\n",
    "- the integers;\n",
    "- the floats;\n",
    "- the boolean values.\n",
    "\n",
    "The list of values of each type should be on a separate line."
   ]
  },
  {
   "cell_type": "code",
   "execution_count": 349,
   "id": "fifty-jimmy",
   "metadata": {},
   "outputs": [
    {
     "name": "stdout",
     "output_type": "stream",
     "text": [
      "a b c\n",
      "2 4 6 8 10\n",
      "4.5 3.87 11.73\n",
      "True True False\n"
     ]
    }
   ],
   "source": [
    "data_types = [\"a\", \"b\", \"c\", 2, 4, 6, 8, 10, True, True, False, 4.5, 3.87, 11.73]\n",
    "string = []\n",
    "ints = []\n",
    "floats = []\n",
    "bools = []\n",
    "\n",
    "for i in data_types:\n",
    "  if type(i) is str:\n",
    "    string.append(i)\n",
    "  elif type(i) is int:\n",
    "    ints.append(str(i))\n",
    "  elif type(i) is float:\n",
    "    floats.append(str(i))\n",
    "  elif type(i) is bool:\n",
    "    bools.append(str(i))\n",
    "print(' '.join(string))\n",
    "print(' '.join(ints))\n",
    "print(' '.join(floats))\n",
    "print(' '.join(bools))\n",
    "\n",
    "\n",
    "  \n",
    "\n"
   ]
  },
  {
   "cell_type": "markdown",
   "id": "placed-grill",
   "metadata": {},
   "source": [
    "## 4. Sorted lists\n",
    "\n",
    "   Given this list: \n",
    "   `institutions = [\"University of Glasgow\", \"University of Ibadan\", \"PWSA\", \"University of Rwanda\"]`\n",
    "                    \n",
    "Print the ordered, and reverse ordered, list of institutions."
   ]
  },
  {
   "cell_type": "code",
   "execution_count": 350,
   "id": "waiting-protection",
   "metadata": {},
   "outputs": [
    {
     "name": "stdout",
     "output_type": "stream",
     "text": [
      "['PWSA', 'University of Glasgow', 'University of Ibadan', 'University of Rwanda']\n",
      "['University of Rwanda', 'University of Ibadan', 'University of Glasgow', 'PWSA']\n"
     ]
    }
   ],
   "source": [
    "institutions = [\"University of Glasgow\", \"University of Ibadan\", \"PWSA\", \"University of Rwanda\"]\n",
    "institutions.sort()\n",
    "print(institutions)\n",
    "institutions.reverse()\n",
    "print(institutions)"
   ]
  },
  {
   "cell_type": "markdown",
   "id": "historical-citizenship",
   "metadata": {},
   "source": [
    "## 5. Random password\n",
    "\n",
    "Write a function, `random_password`, that generates a random password with the following properties:\n",
    "- each password should have a random length, of between 7 and 12 characters.\n",
    "- each character of the password should be randomly selected from positions 33 to 126 of the ASCII table.\n",
    "\n",
    "_Hints: use the random.randint(x, y) will generate a random number between x and y (inclusive); chr(n) will give you the _n_th character of the ASCII table._"
   ]
  },
  {
   "cell_type": "code",
   "execution_count": 351,
   "id": "empirical-disco",
   "metadata": {},
   "outputs": [
    {
     "data": {
      "text/plain": [
       "'ATPq(>_~'"
      ]
     },
     "execution_count": 351,
     "metadata": {},
     "output_type": "execute_result"
    }
   ],
   "source": [
    "import random\n",
    "def random_password():\n",
    "  password_len = random.randint(7, 12)\n",
    "  password = ''\n",
    "  for i in range(password_len):\n",
    "    password += chr(random.randint(33, 126))\n",
    "  return password\n",
    "random_password()"
   ]
  },
  {
   "cell_type": "markdown",
   "id": "rough-mayor",
   "metadata": {},
   "source": [
    "## 6. Good password\n",
    "\n",
    "Write a function, `good_password` that determines whether or not a given password is \"good\". A password is \"good\" if it is:\n",
    "- at least 8 characters long; and\n",
    "- contains at least one uppercase letter, one lowercase letter, and at least one digit."
   ]
  },
  {
   "cell_type": "code",
   "execution_count": 352,
   "id": "agreed-swing",
   "metadata": {},
   "outputs": [
    {
     "name": "stdout",
     "output_type": "stream",
     "text": [
      "Password is not good!\n"
     ]
    },
    {
     "data": {
      "text/plain": [
       "False"
      ]
     },
     "execution_count": 352,
     "metadata": {},
     "output_type": "execute_result"
    }
   ],
   "source": [
    "import re\n",
    "\n",
    "def good_password(password):\n",
    "  if len(password) < 8:\n",
    "    print('Password is not good!')\n",
    "    return False\n",
    "  if(re.search('\\d', password) == None):\n",
    "    print('Password is not good!')\n",
    "    return False\n",
    "  if(re.search('[A-Z]', password) == None):\n",
    "    print('Password is not good!')\n",
    "    return False\n",
    "  if(re.search('[a-z]', password) == None):\n",
    "    print('Password is false')\n",
    "    return False\n",
    "  print('Password is good')\n",
    "  return True\n",
    "good_password(input('Input your password: ')) "
   ]
  },
  {
   "cell_type": "markdown",
   "id": "verbal-artwork",
   "metadata": {},
   "source": [
    "## 7. Words from keyboard rows\n",
    "\n",
    "Write a function that, when given a list of words, returns a list containing only those words that can be typed using letters of the alphabet that occur on a single row of the standard English \"qwerty\" keyboard. Characters in each row can be used more than once. You can assume that input strings will only contain letters of the alphabet.\n",
    "\n",
    "- row 1: qwertyuiop\n",
    "- row 2: asdfghjkl\n",
    "- row 3: zxcvbnm\n",
    "\n",
    "For example, the word \"data\" does _not_ satisfy the constraint: \"t\" is not in the same row as \"d\" and \"A\". The word \"type\" _does_ satisfy the condition, since each letter is on the same row."
   ]
  },
  {
   "cell_type": "code",
   "execution_count": 353,
   "id": "announced-tracker",
   "metadata": {},
   "outputs": [],
   "source": [
    "row1 = 'qwertyuiop'\n",
    "row2 = 'asdfghjkl'\n",
    "row3 = 'zxcvbnm'\n",
    "\n",
    "\n",
    "  \n",
    "  \n",
    "\n",
    "\n",
    "\n",
    "    \n",
    "  "
   ]
  },
  {
   "cell_type": "markdown",
   "id": "competitive-cooperative",
   "metadata": {},
   "source": [
    "## 8. Finding missing numbers\n",
    "\n",
    "Write a function that takes two lists, A and B, and that returns those numbers that do not appear in both lists. If a number occurs in one list, it must occur the same number of times in the other, otherwise the number is \"missing\". The function must return an ordered list of the missing numbers. Each missing number should only be printed once, even if it is \"missing\" multiple times.\n",
    "\n",
    "As an example, suppose `A = [2, 4, 1, 5, 6, 1, 8, 9, 10, 1, 2]` and `B = [4, 6, 1, 2, 8, 9, 1]`. The missing numbers, in order, are `[1, 2, 5, 10]`."
   ]
  },
  {
   "cell_type": "code",
   "execution_count": 354,
   "id": "catholic-penny",
   "metadata": {},
   "outputs": [
    {
     "data": {
      "text/plain": [
       "[5, 10, 1, 2]"
      ]
     },
     "execution_count": 354,
     "metadata": {},
     "output_type": "execute_result"
    }
   ],
   "source": [
    "lilac = [2, 4, 1, 5, 6, 1, 8, 9, 10, 1, 2]\n",
    "violet = [4, 6, 1, 2, 8, 9, 1]\n",
    "\n",
    "def findMissingNum(a, b): \n",
    "  missing = []\n",
    "  for i in a:\n",
    "    if( i in b ):\n",
    "      b.remove(i)\n",
    "      continue\n",
    "    missing.append(i)\n",
    "  return missing\n",
    "\n",
    "findMissingNum(lilac, violet)"
   ]
  },
  {
   "cell_type": "markdown",
   "id": "israeli-authorization",
   "metadata": {},
   "source": [
    "## 9. Flattening lists\n",
    "\n",
    "Write a function, `flatten`, that \"flattens\" any list. A list is flat if it does not contain any nested list. A list that contains a nested list is flattened when the elements of any nested lists are removed, and put into a flat list.\n",
    "\n",
    "For example, if `a = [[[1, 2, 3], [4, 5, 6], [7], [8, 9], 10]]`, then `flatten(a) = [1, 2, 3, 4, 5, 6, 7, 8, 9, 10]`."
   ]
  },
  {
   "cell_type": "code",
   "execution_count": 355,
   "id": "utility-appointment",
   "metadata": {},
   "outputs": [
    {
     "data": {
      "text/plain": [
       "[1, 2, 3, 4, 5, 6, 7, 8, 9, 10]"
      ]
     },
     "execution_count": 355,
     "metadata": {},
     "output_type": "execute_result"
    }
   ],
   "source": [
    "def flatten_list(listaa):\n",
    "  final_list = []\n",
    "  for element in listaa:\n",
    "    if type(element) is list: \n",
    "      final_list.extend(flatten_list(element))\n",
    "      continue\n",
    "    final_list.append(element)\n",
    "  return final_list\n",
    "\n",
    "flatten_list([[[1, 2, 3], [4, 5, 6], [7], [8, 9], 10]])"
   ]
  },
  {
   "cell_type": "markdown",
   "id": "joined-classics",
   "metadata": {},
   "source": [
    "## 10. Identical lists\n",
    "\n",
    "Write a function, `identical`, that checks if two lists are _circularly identical_. A circular list is where we consider the first element as being next to the last element, forming a circle.\n",
    "\n",
    "For example, if `a = [2, 0, 5, 10, 0, 5, 7, 10]` and `b = [10, 2, 0, 5, 10, 0, 5, 7]`, then `identical(a, b)` is `True`, since these lists are circularly identical. However, if `a = [10, 10, 5, 10]` and `b = [10, 10, 10, 0]`, then `identical(a, b)` is `False`."
   ]
  },
  {
   "cell_type": "code",
   "execution_count": 356,
   "id": "neither-tampa",
   "metadata": {},
   "outputs": [
    {
     "name": "stdout",
     "output_type": "stream",
     "text": [
      "Lists are circularly identical\n"
     ]
    },
    {
     "data": {
      "text/plain": [
       "True"
      ]
     },
     "execution_count": 356,
     "metadata": {},
     "output_type": "execute_result"
    }
   ],
   "source": [
    "a = [2, 0, 5, 10, 0, 5, 7, 10]\n",
    "b = [10, 2, 0, 5, 10, 0, 5, 7]\n",
    "def identical_list(a, b):\n",
    "  if len(a) != len(b):\n",
    "    print('The lists are not circularly identical')\n",
    "    return False\n",
    "  check = -1\n",
    "  while check < len(b) - 1:\n",
    "    if(b[check + 1] != a[check]):\n",
    "      print('The lists are not circularly identical')\n",
    "      return False\n",
    "    check += 1\n",
    "  print('Lists are circularly identical')\n",
    "  return True\n",
    "  \n",
    "\n",
    "identical_list(a, b)"
   ]
  },
  {
   "cell_type": "markdown",
   "id": "third-riding",
   "metadata": {},
   "source": [
    "## Optional: 11. Pattern\n",
    "\n",
    "In this task, you are required to implement a function `detect_pattern` that determines whether two strings have the same pattern of characters. Two strings have the same pattern if they are of the same length, and, there are at least two characters in string `a` that are the same, and that at the same positions in string `b`, those characters are also equal to each other. \n",
    "\n",
    "For example, `aba` and `xyz` do not contain a pattern. Despite being the same length, we have the same characters at positions 0 and 2 in string 1, but the characters at positions 0 and 2 in string 2 are not the same.\n",
    "\n",
    "`aba` and `xyx` _do_ have a pattern: they are the same length, and the characters in 0 and 2 in string 1 are equal, _and_ the characters at those positions in string 2 are also equal."
   ]
  },
  {
   "cell_type": "code",
   "execution_count": null,
   "id": "distributed-shield",
   "metadata": {},
   "outputs": [],
   "source": [
    "def detect_pattern(a, b): \n",
    "  if len(a) != len(b):\n",
    "    print(\"These strings aren't of the same pattern\")\n",
    "    return False\n",
    "  "
   ]
  },
  {
   "cell_type": "markdown",
   "id": "checked-lawrence",
   "metadata": {},
   "source": [
    "## Optional: 12. Alphabet rangoli\n",
    "\n",
    "*This one is really challenging!*\n",
    "\n",
    "Write a function `rangoli` that prints an _alphabet rangoli_ of a specified size. Rangoli is a form of Indian folk art based on creating patterns. Different sizes of alphabet rangoli are shown:\n",
    "\n",
    "```\n",
    "rangoli(3)\n",
    "\n",
    "- - - - c - - - -\n",
    "- - c - b - c - -\n",
    "c - b - a - b - c \n",
    "- - c - b - c - -\n",
    "- - - - c - - - -\n",
    "\n",
    "rangoli(4)\n",
    "\n",
    "- - - - - - d - - - - - -\n",
    "- - - - d - c - d - - - -\n",
    "- - d - c - b - c - d - -\n",
    "d - c - b - a - b - c - d\n",
    "- - d - c - b - c - d - -\n",
    "- - - - d - c - d - - - -\n",
    "- - - - - - d - - - - - -\n",
    "```\n",
    "\n",
    "Think about how you can bring this problem down. Talk to the other members of your group, and your tutor for help: solving it together is allowed!"
   ]
  },
  {
   "cell_type": "code",
   "execution_count": 9,
   "id": "better-scheduling",
   "metadata": {},
   "outputs": [
    {
     "name": "stdout",
     "output_type": "stream",
     "text": [
      "- - - - c - - - -\n",
      "- - c - b - c - -\n",
      "c - b - a - b - c\n",
      "- - c - b - c - -\n",
      "- - - - c - - - -\n"
     ]
    }
   ],
   "source": [
    "# Stephen's solution\n",
    "import string\n",
    "\n",
    "def rangoli(n):\n",
    "  needed_characters = string.ascii_lowercase[:n]\n",
    "  middle_line = needed_characters[::-1] + needed_characters[1:]\n",
    "  middle_line = ' - '.join(middle_line)\n",
    "  top_half_of_the_pattern = []\n",
    "  bottom_half_of_the_pattern = []\n",
    "  for i in range(1, n):\n",
    "    this_line = needed_characters[i:]\n",
    "    this_line = this_line[::-1] + this_line[1:]\n",
    "    this_line = ' - '.join(this_line)\n",
    "    dashes = '-'*i*2\n",
    "    this_line = ' '.join(dashes) + ' ' + this_line + ' ' + ' '.join(dashes)\n",
    "    top_half_of_the_pattern = [this_line] + top_half_of_the_pattern\n",
    "    bottom_half_of_the_pattern = bottom_half_of_the_pattern + [this_line]\n",
    "  for line in top_half_of_the_pattern:\n",
    "    print(line)\n",
    "  print(middle_line)\n",
    "  for line in bottom_half_of_the_pattern:\n",
    "    print(line)\n",
    "\n",
    "rangoli(3)\n"
   ]
  }
 ],
 "metadata": {
  "kernelspec": {
   "display_name": "Python 3.10.5 64-bit",
   "language": "python",
   "name": "python3"
  },
  "language_info": {
   "codemirror_mode": {
    "name": "ipython",
    "version": 3
   },
   "file_extension": ".py",
   "mimetype": "text/x-python",
   "name": "python",
   "nbconvert_exporter": "python",
   "pygments_lexer": "ipython3",
   "version": "3.10.5"
  },
  "vscode": {
   "interpreter": {
    "hash": "2cc0af2f80ecdd84e6c7bc2e2c6407acdf9391592fb7830e0bbecf95f8fb2a46"
   }
  }
 },
 "nbformat": 4,
 "nbformat_minor": 5
}
