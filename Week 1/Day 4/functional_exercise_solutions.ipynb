{
 "cells": [
  {
   "cell_type": "markdown",
   "id": "e81899e2",
   "metadata": {},
   "source": [
    "In today's exercises, we'll practice the material that was covered in this morning's lecture.\n",
    "\n",
    "Some problems at the end of the exercise notebook are marked as _optional_. Your progress on those problems won't be assessed: these problems have been provided as an additional challenge for people that have found the earlier problems straightforward."
   ]
  },
  {
   "cell_type": "markdown",
   "id": "aadb7cfa",
   "metadata": {},
   "source": [
    "## 1. Fix the names\n",
    "\n",
    "Write a function, `fix_names`, that takes a list of names, and returns the names properly formatted. A name is properly formatted if it has a capital letter at the beginning of each separate word.\n",
    "\n",
    "For example, if `names = [\"bob\", \"sofiat\", \"fionnuaLA\", \"aNgus\"]`, then `fix_names(names) == [\"Bob\", \"Sofiat\", \"Fionnuala\", \"Angus\"]`.\n",
    "\n",
    "You should use functional programming techniques to solve this problem."
   ]
  },
  {
   "cell_type": "code",
   "execution_count": 20,
   "id": "b08deadc",
   "metadata": {},
   "outputs": [
    {
     "name": "stdout",
     "output_type": "stream",
     "text": [
      "['Bob', 'Sofiat', 'Fionnuala', 'Angus']\n",
      "['Bob', 'Sofiat', 'Fionnuala', 'Angus']\n"
     ]
    }
   ],
   "source": [
    "def fix_names(lst):\n",
    "    for i in range(len(lst)):\n",
    "        lst[i] = lst[i].capitalize()\n",
    "    return lst\n",
    "names = [\"bob\", \"sofiat\", \"fionnuaLA\", \"aNgus\"]\n",
    "print(fix_names(names))\n",
    "\n",
    "def fix_names(names):\n",
    "    return list(map(lambda x: x.capitalize(), names))\n",
    "\n",
    "print(fix_names(names))"
   ]
  },
  {
   "cell_type": "markdown",
   "id": "b961fb75",
   "metadata": {},
   "source": [
    "## 2. pi\n",
    "\n",
    "Write a function, `pi_to_n`, that returns a list of _n_ values of pi, with increasing numbers of decimal places, starting with 3.14.\n",
    "\n",
    "For example, `pi_to_n(3) == [3.14, 3.142, 3.1416]`.\n",
    "\n",
    "You should use functional programming techniques to solve this problem.\n",
    "\n",
    "_Hint: math.pi will give you the value of pi._"
   ]
  },
  {
   "cell_type": "code",
   "execution_count": 26,
   "id": "bbd9ec5e",
   "metadata": {},
   "outputs": [
    {
     "name": "stdout",
     "output_type": "stream",
     "text": [
      "[3.14, 3.142, 3.1416, 3.14159, 3.141593]\n"
     ]
    }
   ],
   "source": [
    "from math import *\n",
    "\n",
    "def round_pi_to_n(n):\n",
    "    return round(pi, n)\n",
    "\n",
    "def pi_to_n(n):\n",
    "    return list(map(round_pi_to_n, range(2, n+2)))\n",
    "print(pi_to_n(5))"
   ]
  },
  {
   "cell_type": "markdown",
   "id": "6998e2a3",
   "metadata": {},
   "source": [
    "## 3. zip\n",
    "\n",
    "Write a function, `zip_the_lists`, that takes two lists, of the same length, and returns a single list, where each element is a tuple containing elements from the same position in each list.\n",
    "\n",
    "For example, `zip_the_lists([1, 2, 3], [4, 5, 6]) == [(1, 4), (2, 5), (3, 6)]`.\n",
    "\n",
    "You should use functional programming techniques to solve this problem."
   ]
  },
  {
   "cell_type": "code",
   "execution_count": 31,
   "id": "f274e08d",
   "metadata": {},
   "outputs": [
    {
     "name": "stdout",
     "output_type": "stream",
     "text": [
      "[(1, 4), (2, 5), (3, 6)]\n",
      "[(1, 4), (2, 5), (3, 6)]\n"
     ]
    }
   ],
   "source": [
    "def zip_the_lists(a,b):\n",
    "    return list(map(lambda x,y:(x,y),a,b))\n",
    "print(zip_the_lists([1, 2, 3], [4, 5, 6]))\n",
    "\n",
    "def change_two_numbers_into_a_tuple(x, y):\n",
    "    return (x, y)\n",
    "\n",
    "def zip_the_lists(a,b):\n",
    "    return list(map(change_two_numbers_into_a_tuple,a,b))\n",
    "print(zip_the_lists([1, 2, 3], [4, 5, 6]))\n"
   ]
  },
  {
   "cell_type": "markdown",
   "id": "34afee26",
   "metadata": {},
   "source": [
    "## 4. Even numbers\n",
    "\n",
    "Write a program that prints the first 200 even numbers.\n",
    "\n",
    "You should use functional programming techniques to solve this problem."
   ]
  },
  {
   "cell_type": "code",
   "execution_count": 32,
   "id": "ad137ab4",
   "metadata": {},
   "outputs": [
    {
     "name": "stdout",
     "output_type": "stream",
     "text": [
      "[0, 2, 4, 6, 8, 10, 12, 14, 16, 18, 20, 22, 24, 26, 28, 30, 32, 34, 36, 38, 40, 42, 44, 46, 48, 50, 52, 54, 56, 58, 60, 62, 64, 66, 68, 70, 72, 74, 76, 78, 80, 82, 84, 86, 88, 90, 92, 94, 96, 98, 100, 102, 104, 106, 108, 110, 112, 114, 116, 118, 120, 122, 124, 126, 128, 130, 132, 134, 136, 138, 140, 142, 144, 146, 148, 150, 152, 154, 156, 158, 160, 162, 164, 166, 168, 170, 172, 174, 176, 178, 180, 182, 184, 186, 188, 190, 192, 194, 196, 198, 200, 202, 204, 206, 208, 210, 212, 214, 216, 218, 220, 222, 224, 226, 228, 230, 232, 234, 236, 238, 240, 242, 244, 246, 248, 250, 252, 254, 256, 258, 260, 262, 264, 266, 268, 270, 272, 274, 276, 278, 280, 282, 284, 286, 288, 290, 292, 294, 296, 298, 300, 302, 304, 306, 308, 310, 312, 314, 316, 318, 320, 322, 324, 326, 328, 330, 332, 334, 336, 338, 340, 342, 344, 346, 348, 350, 352, 354, 356, 358, 360, 362, 364, 366, 368, 370, 372, 374, 376, 378, 380, 382, 384, 386, 388, 390, 392, 394, 396, 398]\n"
     ]
    }
   ],
   "source": [
    "def even_200():\n",
    "    print(list(filter(lambda x : x%2 == 0, range(400))))\n",
    "    \n",
    "even_200()"
   ]
  },
  {
   "cell_type": "markdown",
   "id": "728a12d9",
   "metadata": {},
   "source": [
    "## 5. Sum odd, sum even\n",
    "\n",
    "Write a function, `sum_odd_sum_even`, that takes a list of integers, and returns a tuple that contains two values. The first value should be the sum of all of the even numbers in the list, and the second value should be the sum of all of the odd numbers in the list.\n",
    "\n",
    "For example, `sum_odd_sum_even([5, 8, 32, 3, 2]) == (8, 42)`.\n",
    "\n",
    "You should use functional programming techniques to solve this problem."
   ]
  },
  {
   "cell_type": "code",
   "execution_count": 37,
   "id": "4e920063",
   "metadata": {},
   "outputs": [
    {
     "name": "stdout",
     "output_type": "stream",
     "text": [
      "(42, 8)\n"
     ]
    }
   ],
   "source": [
    "from functools import reduce\n",
    "\n",
    "def sum_odd_sum_even(array):\n",
    "    even = (reduce(lambda y, z: y+z, list(filter(lambda x: x % 2 == 0, array))))\n",
    "    odd = (reduce(lambda y, z: y+z, list(filter(lambda x: x % 2 != 0, array))))\n",
    "    print((even, odd))\n",
    "    \n",
    "sum_odd_sum_even([5, 8, 32, 3, 2])"
   ]
  },
  {
   "cell_type": "markdown",
   "id": "a6fd44da",
   "metadata": {},
   "source": [
    "## 6. join\n",
    "\n",
    "Write a function, `join_the_strings`, that takes a list of strings and a character, and returns a single string that has joined the strings together, separated by the character.\n",
    "\n",
    "For example, `join_the_strings([\"hello\", \"my\", \"name\", \"is\", \"bob\"], '+') == \"hello+my+name+is+bob\"`.\n",
    "\n",
    "You should use functional programming techniques to solve this problem."
   ]
  },
  {
   "cell_type": "code",
   "execution_count": 38,
   "id": "2be205b1",
   "metadata": {},
   "outputs": [
    {
     "name": "stdout",
     "output_type": "stream",
     "text": [
      "Enter here:+\n"
     ]
    },
    {
     "data": {
      "text/plain": [
       "'hello+my+name+is+bob'"
      ]
     },
     "execution_count": 38,
     "metadata": {},
     "output_type": "execute_result"
    }
   ],
   "source": [
    "from functools import reduce\n",
    "\n",
    "def join_the_strings(lst, char) :\n",
    "    return reduce(lambda x,y: f'{x}{char}{y}' ,lst)\n",
    "\n",
    "the_list = [\"hello\", \"my\", \"name\", \"is\", \"bob\"]\n",
    "join_the_strings(the_list, str(input('Enter here:'))) "
   ]
  },
  {
   "cell_type": "markdown",
   "id": "34254557",
   "metadata": {},
   "source": [
    "## Optional: 7. Managing workshop participants\n",
    "\n",
    "Let's imagine that you've decided to host a workshop to teach Python. You've decided to store participant information in a list of dictionaries, structured like this:\n",
    "\n",
    "```\n",
    "participants = [{\"first_name\": \"Hester\", \"last_name\": \"Macdonald\", \"track\": 1},\n",
    "                {\"first_name\": \"Dorian\", \"last_name\": \"Foster\", \"track\": 2},\n",
    "                {\"first_name\": \"Conal\", \"last_name\": \"Delgado\", \"track\": 2},\n",
    "                {\"first_name\": \"Aisha\", \"last_name\": \"Torres\", \"track\": 2},\n",
    "                {\"first_name\": \"Adeline\", \"last_name\": \"Mcdougall\", \"track\": 1},\n",
    "                {\"first_name\": \"Lola\", \"last_name\": \"Delaney\", \"track\": 1},\n",
    "                {\"first_name\": \"Saim\", \"last_name\": \"Bone\", \"track\": 2},\n",
    "                {\"first_name\": \"Jobe\", \"last_name\": \"Wills\", \"track\": 1},\n",
    "                {\"first_name\": \"June\", \"last_name\": \"Rush\", \"track\": 2},\n",
    "                {\"first_name\": \"Winifred\", \"last_name\": \"John\", \"track\": 1}]\n",
    "```\n",
    "\n",
    "### 7.1 Mail merge\n",
    "\n",
    "You want to send a message to all of the participants. You want the message to include their full name. To do this, you need to generate a list of all of the participants full names. Write a function that does this, using functional programming techniques.\n",
    "\n",
    "For example, using the data above, you would produce this list: `[\"Hester Macdonald\", \"Dorian Foster\", \"Conal Delgado\", \"Aisha Torres\", \"Adeline Mcdougall\", \"Lola Delaney\", \"Saim Bone\", \"Jobe Wills\", \"June Rush\", \"Winifred John\"]`."
   ]
  },
  {
   "cell_type": "code",
   "execution_count": 2,
   "id": "559d6c5b",
   "metadata": {},
   "outputs": [
    {
     "name": "stdout",
     "output_type": "stream",
     "text": [
      "Saim Bone\n",
      "['Hester Macdonald', 'Dorian Foster', 'Conal Delgado', 'Aisha Torres', 'Adeline Mcdougall', 'Lola Delaney', 'Saim Bone', 'Jobe Wills', 'June Rush', 'Winifred John']\n"
     ]
    }
   ],
   "source": [
    "def get_full_name(participant):\n",
    "    return f\"{participant['first_name']} {participant['last_name']}\"\n",
    "\n",
    "print(get_full_name({\"first_name\": \"Saim\", \"last_name\": \"Bone\", \"track\": 2}))\n",
    "def generate_participant_list(participants):\n",
    "    return list(map(get_full_name, participants))\n",
    "\n",
    "participants = [{\"first_name\": \"Hester\", \"last_name\": \"Macdonald\", \"track\": 1},\n",
    "                {\"first_name\": \"Dorian\", \"last_name\": \"Foster\", \"track\": 2},\n",
    "                {\"first_name\": \"Conal\", \"last_name\": \"Delgado\", \"track\": 2},\n",
    "                {\"first_name\": \"Aisha\", \"last_name\": \"Torres\", \"track\": 2},\n",
    "                {\"first_name\": \"Adeline\", \"last_name\": \"Mcdougall\", \"track\": 1},\n",
    "                {\"first_name\": \"Lola\", \"last_name\": \"Delaney\", \"track\": 1},\n",
    "                {\"first_name\": \"Saim\", \"last_name\": \"Bone\", \"track\": 2},\n",
    "                {\"first_name\": \"Jobe\", \"last_name\": \"Wills\", \"track\": 1},\n",
    "                {\"first_name\": \"June\", \"last_name\": \"Rush\", \"track\": 2},\n",
    "                {\"first_name\": \"Winifred\", \"last_name\": \"John\", \"track\": 1}]\n",
    "\n",
    "print(generate_participant_list(participants))"
   ]
  },
  {
   "cell_type": "markdown",
   "id": "944efa5c",
   "metadata": {},
   "source": [
    "### 7.2 Group creator\n",
    "\n",
    "Next, you want to split your participants into groups. Groups are allocated based on the first letter of each participant's name: a group will only contain participants whose names start with the same letter. To help with this, you need to generate a dictionary. The dictionary will contain a key corresponding to each letter of the alphabet, where the values are lists of participants assigned to the group.\n",
    "\n",
    "For example, using the data above, you'd create a dictionary that included this key, value pair:\n",
    "```\n",
    "{ ..\n",
    "  'J' : [\"Jobe Wills\", \"June Rush\"],\n",
    "  ..\n",
    "}\n",
    "```\n",
    "\n",
    "You should use functional programming techniques to solve this problem. Some groups might be empty, or include only one person -- that's OK for this exercise."
   ]
  },
  {
   "cell_type": "code",
   "execution_count": 5,
   "id": "5bb16e04",
   "metadata": {},
   "outputs": [
    {
     "name": "stdout",
     "output_type": "stream",
     "text": [
      "{'H': ['Hester Macdonald'], 'D': ['Dorian Foster'], 'C': ['Conal Delgado'], 'A': ['Aisha Torres', 'Adeline Mcdougall'], 'L': ['Lola Delaney'], 'S': ['Saim Bone'], 'J': ['Jobe Wills', 'June Rush'], 'W': ['Winifred John']}\n"
     ]
    }
   ],
   "source": [
    "groups = {}\n",
    "\n",
    "def add_participant_to_group(participant_name):\n",
    "    if participant_name[0] not in groups:\n",
    "        groups[participant_name[0]] = []\n",
    "    groups[participant_name[0]].append(participant_name)\n",
    "\n",
    "def add_all_participants_to_groups(participant_names):\n",
    "    return list(map(add_participant_to_group, participant_names))\n",
    "\n",
    "participant_names = ['Hester Macdonald', 'Dorian Foster', 'Conal Delgado', 'Aisha Torres', 'Adeline Mcdougall', 'Lola Delaney', 'Saim Bone', 'Jobe Wills', 'June Rush', 'Winifred John']\n",
    "add_all_participants_to_groups(participant_names)\n",
    "print(groups)\n",
    "\n",
    "\n"
   ]
  },
  {
   "cell_type": "markdown",
   "id": "806816a7",
   "metadata": {},
   "source": [
    "## Optional: 8. Number swap\n",
    "\n",
    "Write a function, `number_swap`, that takes two numbers, `a` and `b`. The function should swap digits in the first number with digits from the second, such that it generates the largest possible numbers. \n",
    "\n",
    "For example, `number_swap(6423, 551) == 6553`. Here, the 4 in the first number is swapped with a 5 from the second number. 2 in the first number is swapped for the other 5 in the second.\n",
    "\n",
    "Note: we're only allowed to use each digit in the second number at most once. \n",
    "\n",
    "_You do not need to use functional programming techniques to solve this problem._"
   ]
  },
  {
   "cell_type": "code",
   "execution_count": 35,
   "id": "b2aa7408",
   "metadata": {},
   "outputs": [],
   "source": [
    "def number_swap(a, b):\n",
    "    a = list(str(a))\n",
    "    b = sorted(list(str(b)), reverse=True)\n",
    "    position_in_a = 0\n",
    "    position_in_b = 0\n",
    "    for position_in_a in range(len(a)):\n",
    "        if a[position_in_a] < b[position_in_b]:\n",
    "            a[position_in_a] = b[position_in_b]\n",
    "            position_in_b += 1\n",
    "            if position_in_b >= len(b):\n",
    "                break\n",
    "    return int(\"\".join(a))"
   ]
  },
  {
   "cell_type": "code",
   "execution_count": 36,
   "id": "27eb1ffb",
   "metadata": {},
   "outputs": [
    {
     "data": {
      "text/plain": [
       "654"
      ]
     },
     "execution_count": 36,
     "metadata": {},
     "output_type": "execute_result"
    }
   ],
   "source": [
    "number_swap(551, 6423)"
   ]
  }
 ],
 "metadata": {
  "kernelspec": {
   "display_name": "Python 3 (ipykernel)",
   "language": "python",
   "name": "python3"
  },
  "language_info": {
   "codemirror_mode": {
    "name": "ipython",
    "version": 3
   },
   "file_extension": ".py",
   "mimetype": "text/x-python",
   "name": "python",
   "nbconvert_exporter": "python",
   "pygments_lexer": "ipython3",
   "version": "3.9.12"
  }
 },
 "nbformat": 4,
 "nbformat_minor": 5
}
