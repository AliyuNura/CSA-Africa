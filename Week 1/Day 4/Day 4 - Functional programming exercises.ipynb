{
 "cells": [
  {
   "cell_type": "markdown",
   "id": "e81899e2",
   "metadata": {},
   "source": [
    "In today's exercises, we'll practice the material that was covered in this morning's lecture.\n",
    "\n",
    "Some problems at the end of the exercise notebook are marked as _optional_. Your progress on those problems won't be assessed: these problems have been provided as an additional challenge for people that have found the earlier problems straightforward."
   ]
  },
  {
   "cell_type": "markdown",
   "id": "aadb7cfa",
   "metadata": {},
   "source": [
    "## 1. Fix the names\n",
    "\n",
    "Write a function, `fix_names`, that takes a list of names, and returns the names properly formatted. A name is properly formatted if it has a capital letter at the beginning of each separate word.\n",
    "\n",
    "For example, if `names = [\"bob\", \"sofiat\", \"fionnuaLA\", \"aNgus\"]`, then `fix_names(names) == [\"Bob\", \"Sofiat\", \"Fionnuala\", \"Angus\"]`.\n",
    "\n",
    "You should use functional programming techniques to solve this problem."
   ]
  },
  {
   "cell_type": "code",
   "execution_count": 6,
   "id": "b08deadc",
   "metadata": {},
   "outputs": [
    {
     "data": {
      "text/plain": [
       "['Bob', 'Sofiat', 'Fionnuala', 'Angus']"
      ]
     },
     "execution_count": 6,
     "metadata": {},
     "output_type": "execute_result"
    }
   ],
   "source": [
    "# My code:\n",
    "names = [\"bob\", \"sofiat\", \"fionnuaLA\", \"aNgus\"]\n",
    "def fix_names(list_of_weird_names):\n",
    "    return list(map(lambda x: x.title(), list_of_weird_names))\n",
    "fix_names(names)\n",
    "\n",
    "# Stephen's was the same as mine"
   ]
  },
  {
   "cell_type": "markdown",
   "id": "b961fb75",
   "metadata": {},
   "source": [
    "## 2. pi\n",
    "\n",
    "Write a function, `pi_to_n`, that returns a list of _n_ values of pi, with increasing numbers of decimal places, starting with 3.14.\n",
    "\n",
    "For example, `pi_to_n(3) == [3.14, 3.142, 3.1416]`.\n",
    "\n",
    "You should use functional programming techniques to solve this problem.\n",
    "\n",
    "_Hint: math.pi will give you the value of pi._"
   ]
  },
  {
   "cell_type": "code",
   "execution_count": 97,
   "id": "bbd9ec5e",
   "metadata": {},
   "outputs": [
    {
     "name": "stdout",
     "output_type": "stream",
     "text": [
      "['3.14', '3.141', '3.1415']\n",
      "[3.14, 3.142, 3.1416]\n"
     ]
    }
   ],
   "source": [
    "# My code:\n",
    "import math\n",
    "def pi_to_n(num):\n",
    "    pinum = math.pi\n",
    "    return [str(pinum)[:4+i] for i in range(num)]\n",
    "print(pi_to_n(3))\n",
    "\n",
    "# Stephen's\n",
    "def pi_to_n(n):\n",
    "    return list(map(lambda x: round(math.pi, x), range(2, n+2)))\n",
    "print(pi_to_n(3))"
   ]
  },
  {
   "cell_type": "markdown",
   "id": "6998e2a3",
   "metadata": {},
   "source": [
    "## 3. zip\n",
    "\n",
    "Write a function, `zip_the_lists`, that takes two lists, of the same length, and returns a single list, where each element is a tuple containing elements from the same position in each list.\n",
    "\n",
    "For example, `zip_the_lists([1, 2, 3], [4, 5, 6]) == [(1, 4), (2, 5), (3, 6)]`.\n",
    "\n",
    "You should use functional programming techniques to solve this problem."
   ]
  },
  {
   "cell_type": "code",
   "execution_count": 23,
   "id": "f274e08d",
   "metadata": {},
   "outputs": [
    {
     "data": {
      "text/plain": [
       "[(1, 4), (2, 5), (3, 6)]"
      ]
     },
     "execution_count": 23,
     "metadata": {},
     "output_type": "execute_result"
    }
   ],
   "source": [
    "# My code:\n",
    "a = [1, 2, 3]\n",
    "b = [4, 5, 6]\n",
    "def zip_the_lists(list1_to_zip, list2_to_zip):\n",
    "    return list(map(lambda x, y: (x, y), list1_to_zip, list2_to_zip))\n",
    "zip_the_lists(a, b)\n",
    "\n",
    "# Stephen's was the same as mine"
   ]
  },
  {
   "cell_type": "markdown",
   "id": "34afee26",
   "metadata": {},
   "source": [
    "## 4. Even numbers\n",
    "\n",
    "Write a program that prints the first 200 even numbers.\n",
    "\n",
    "You should use functional programming techniques to solve this problem."
   ]
  },
  {
   "cell_type": "code",
   "execution_count": 98,
   "id": "ad137ab4",
   "metadata": {},
   "outputs": [
    {
     "data": {
      "text/plain": [
       "[0,\n",
       " 2,\n",
       " 4,\n",
       " 6,\n",
       " 8,\n",
       " 10,\n",
       " 12,\n",
       " 14,\n",
       " 16,\n",
       " 18,\n",
       " 20,\n",
       " 22,\n",
       " 24,\n",
       " 26,\n",
       " 28,\n",
       " 30,\n",
       " 32,\n",
       " 34,\n",
       " 36,\n",
       " 38,\n",
       " 40,\n",
       " 42,\n",
       " 44,\n",
       " 46,\n",
       " 48,\n",
       " 50,\n",
       " 52,\n",
       " 54,\n",
       " 56,\n",
       " 58,\n",
       " 60,\n",
       " 62,\n",
       " 64,\n",
       " 66,\n",
       " 68,\n",
       " 70,\n",
       " 72,\n",
       " 74,\n",
       " 76,\n",
       " 78,\n",
       " 80,\n",
       " 82,\n",
       " 84,\n",
       " 86,\n",
       " 88,\n",
       " 90,\n",
       " 92,\n",
       " 94,\n",
       " 96,\n",
       " 98,\n",
       " 100,\n",
       " 102,\n",
       " 104,\n",
       " 106,\n",
       " 108,\n",
       " 110,\n",
       " 112,\n",
       " 114,\n",
       " 116,\n",
       " 118,\n",
       " 120,\n",
       " 122,\n",
       " 124,\n",
       " 126,\n",
       " 128,\n",
       " 130,\n",
       " 132,\n",
       " 134,\n",
       " 136,\n",
       " 138,\n",
       " 140,\n",
       " 142,\n",
       " 144,\n",
       " 146,\n",
       " 148,\n",
       " 150,\n",
       " 152,\n",
       " 154,\n",
       " 156,\n",
       " 158,\n",
       " 160,\n",
       " 162,\n",
       " 164,\n",
       " 166,\n",
       " 168,\n",
       " 170,\n",
       " 172,\n",
       " 174,\n",
       " 176,\n",
       " 178,\n",
       " 180,\n",
       " 182,\n",
       " 184,\n",
       " 186,\n",
       " 188,\n",
       " 190,\n",
       " 192,\n",
       " 194,\n",
       " 196,\n",
       " 198,\n",
       " 200,\n",
       " 202,\n",
       " 204,\n",
       " 206,\n",
       " 208,\n",
       " 210,\n",
       " 212,\n",
       " 214,\n",
       " 216,\n",
       " 218,\n",
       " 220,\n",
       " 222,\n",
       " 224,\n",
       " 226,\n",
       " 228,\n",
       " 230,\n",
       " 232,\n",
       " 234,\n",
       " 236,\n",
       " 238,\n",
       " 240,\n",
       " 242,\n",
       " 244,\n",
       " 246,\n",
       " 248,\n",
       " 250,\n",
       " 252,\n",
       " 254,\n",
       " 256,\n",
       " 258,\n",
       " 260,\n",
       " 262,\n",
       " 264,\n",
       " 266,\n",
       " 268,\n",
       " 270,\n",
       " 272,\n",
       " 274,\n",
       " 276,\n",
       " 278,\n",
       " 280,\n",
       " 282,\n",
       " 284,\n",
       " 286,\n",
       " 288,\n",
       " 290,\n",
       " 292,\n",
       " 294,\n",
       " 296,\n",
       " 298,\n",
       " 300,\n",
       " 302,\n",
       " 304,\n",
       " 306,\n",
       " 308,\n",
       " 310,\n",
       " 312,\n",
       " 314,\n",
       " 316,\n",
       " 318,\n",
       " 320,\n",
       " 322,\n",
       " 324,\n",
       " 326,\n",
       " 328,\n",
       " 330,\n",
       " 332,\n",
       " 334,\n",
       " 336,\n",
       " 338,\n",
       " 340,\n",
       " 342,\n",
       " 344,\n",
       " 346,\n",
       " 348,\n",
       " 350,\n",
       " 352,\n",
       " 354,\n",
       " 356,\n",
       " 358,\n",
       " 360,\n",
       " 362,\n",
       " 364,\n",
       " 366,\n",
       " 368,\n",
       " 370,\n",
       " 372,\n",
       " 374,\n",
       " 376,\n",
       " 378,\n",
       " 380,\n",
       " 382,\n",
       " 384,\n",
       " 386,\n",
       " 388,\n",
       " 390,\n",
       " 392,\n",
       " 394,\n",
       " 396,\n",
       " 398]"
      ]
     },
     "execution_count": 98,
     "metadata": {},
     "output_type": "execute_result"
    }
   ],
   "source": [
    "# My code:\n",
    "def create_even_numbers():\n",
    "    return list(filter(lambda x: x % 2 == 0, range(400)))\n",
    "create_even_numbers()\n",
    "\n",
    "# Stephen's was the same as mine"
   ]
  },
  {
   "cell_type": "markdown",
   "id": "728a12d9",
   "metadata": {},
   "source": [
    "## 5. Sum odd, sum even\n",
    "\n",
    "Write a function, `sum_odd_sum_even`, that takes a list of integers, and returns a tuple that contains two values. The first value should be the sum of all of the even numbers in the list, and the second value should be the sum of all of the odd numbers in the list.\n",
    "\n",
    "For example, `sum_odd_sum_even([5, 8, 32, 3, 2]) == (8, 42)`.\n",
    "\n",
    "You should use functional programming techniques to solve this problem."
   ]
  },
  {
   "cell_type": "code",
   "execution_count": 99,
   "id": "4e920063",
   "metadata": {},
   "outputs": [
    {
     "data": {
      "text/plain": [
       "(42, 8)"
      ]
     },
     "execution_count": 99,
     "metadata": {},
     "output_type": "execute_result"
    }
   ],
   "source": [
    "# My code:\n",
    "from functools import reduce\n",
    "a = [5, 8, 32, 3, 2]\n",
    "def sum_odd_sum_even(list_to_sum):\n",
    "    even_nums = list(filter(lambda x: x % 2 == 0, list_to_sum))\n",
    "    odd_nums = list(filter(lambda x: x % 2 != 0, list_to_sum))\n",
    "    even_nums_added = reduce(lambda x, y: x + y, even_nums)\n",
    "    odd_nums_added = reduce(lambda x, y: x + y, odd_nums)\n",
    "    return (even_nums_added, odd_nums_added)\n",
    "sum_odd_sum_even(a)\n",
    "\n",
    "# Stephen's was similar"
   ]
  },
  {
   "cell_type": "markdown",
   "id": "a6fd44da",
   "metadata": {},
   "source": [
    "## 6. join\n",
    "\n",
    "Write a function, `join_the_strings`, that takes a list of strings and a character, and returns a single string that has joined the strings together, separated by the character.\n",
    "\n",
    "For example, `join_the_strings([\"hello\", \"my\", \"name\", \"is\", \"bob\"], '+') == \"hello+my+name+is+bob\"`.\n",
    "\n",
    "You should use functional programming techniques to solve this problem."
   ]
  },
  {
   "cell_type": "code",
   "execution_count": 2,
   "id": "2be205b1",
   "metadata": {},
   "outputs": [
    {
     "name": "stdout",
     "output_type": "stream",
     "text": [
      "hello+my+name+is+bob\n"
     ]
    },
    {
     "data": {
      "text/plain": [
       "'hello+my+name+is+bob'"
      ]
     },
     "execution_count": 2,
     "metadata": {},
     "output_type": "execute_result"
    }
   ],
   "source": [
    "# My code:\n",
    "# Mistake made here was that I didn't follow functional programming procedures\n",
    "# solving the problem\n",
    "a = [\"hello\", \"my\", \"name\", \"is\", \"bob\"]\n",
    "b = '+'\n",
    "def join_the_strings(list_to_join, seperator):\n",
    "    final = ''\n",
    "    for name in list_to_join:\n",
    "        final += name\n",
    "        if name == list_to_join[-1]:\n",
    "            continue\n",
    "        final += seperator\n",
    "    return final\n",
    "print(join_the_strings(a, b))\n",
    "\n",
    "# Stephen's\n",
    "from functools import reduce\n",
    "\n",
    "def join_the_strings(lst, char):\n",
    "    return reduce(lambda x,y: f'{x}{char}{y}', lst)\n",
    "join_the_strings(a,b)"
   ]
  },
  {
   "cell_type": "markdown",
   "id": "34254557",
   "metadata": {},
   "source": [
    "## Optional: 7. Managing workshop participants\n",
    "\n",
    "Let's imagine that you've decided to host a workshop to teach Python. You've decided to store participant information in a list of dictionaries, structured like this:\n",
    "\n",
    "```\n",
    "participants = [{\"first_name\": \"Hester\", \"last_name\": \"Macdonald\", \"track\": 1},\n",
    "                {\"first_name\": \"Dorian\", \"last_name\": \"Foster\", \"track\": 2},\n",
    "                {\"first_name\": \"Conal\", \"last_name\": \"Delgado\", \"track\": 2},\n",
    "                {\"first_name\": \"Aisha\", \"last_name\": \"Torres\", \"track\": 2},\n",
    "                {\"first_name\": \"Adeline\", \"last_name\": \"Mcdougall\", \"track\": 1},\n",
    "                {\"first_name\": \"Lola\", \"last_name\": \"Delaney\", \"track\": 1},\n",
    "                {\"first_name\": \"Saim\", \"last_name\": \"Bone\", \"track\": 2},\n",
    "                {\"first_name\": \"Jobe\", \"last_name\": \"Wills\", \"track\": 1},\n",
    "                {\"first_name\": \"June\", \"last_name\": \"Rush\", \"track\": 2},\n",
    "                {\"first_name\": \"Winifred\", \"last_name\": \"John\", \"track\": 1}]\n",
    "```\n",
    "\n",
    "### 7.1 Mail merge\n",
    "\n",
    "You want to send a message to all of the participants. You want the message to include their full name. To do this, you need to generate a list of all of the participants full names. Write a function that does this, using functional programming techniques.\n",
    "\n",
    "For example, using the data above, you would produce this list: `[\"Hester Macdonald\", \"Dorian Foster\", \"Conal Delgado\", \"Aisha Torres\", \"Adeline Mcdougall\", \"Lola Delaney\", \"Saim Bone\", \"Jobe Wills\", \"June Rush\", \"Winifred John\"]`."
   ]
  },
  {
   "cell_type": "code",
   "execution_count": 5,
   "id": "559d6c5b",
   "metadata": {},
   "outputs": [
    {
     "data": {
      "text/plain": [
       "['Hester Macdonald',\n",
       " 'Dorian Foster',\n",
       " 'Conal Delgado',\n",
       " 'Aisha Torres',\n",
       " 'Adeline Mcdougall',\n",
       " 'Lola Delaney',\n",
       " 'Saim Bone',\n",
       " 'Jobe Wills',\n",
       " 'June Rush',\n",
       " 'Winifred John']"
      ]
     },
     "execution_count": 5,
     "metadata": {},
     "output_type": "execute_result"
    }
   ],
   "source": [
    "# My code:\n",
    "participants = [{\"first_name\": \"Hester\", \"last_name\": \"Macdonald\", \"track\": 1},\n",
    "                {\"first_name\": \"Dorian\", \"last_name\": \"Foster\", \"track\": 2},\n",
    "                {\"first_name\": \"Conal\", \"last_name\": \"Delgado\", \"track\": 2},\n",
    "                {\"first_name\": \"Aisha\", \"last_name\": \"Torres\", \"track\": 2},\n",
    "                {\"first_name\": \"Adeline\", \"last_name\": \"Mcdougall\", \"track\": 1},\n",
    "                {\"first_name\": \"Lola\", \"last_name\": \"Delaney\", \"track\": 1},\n",
    "                {\"first_name\": \"Saim\", \"last_name\": \"Bone\", \"track\": 2},\n",
    "                {\"first_name\": \"Jobe\", \"last_name\": \"Wills\", \"track\": 1},\n",
    "                {\"first_name\": \"June\", \"last_name\": \"Rush\", \"track\": 2},\n",
    "                {\"first_name\": \"Winifred\", \"last_name\": \"John\", \"track\": 1}]\n",
    "        \n",
    "def manage_participants_name(list_to_manage):\n",
    "    def checkforname(diction):\n",
    "        return f\"{diction['first_name']} {diction['last_name']}\"\n",
    "    return list(map(checkforname, list_to_manage))\n",
    "manage_participants_name(participants)\n",
    "\n",
    "# Stephen's code was similar.\n"
   ]
  },
  {
   "cell_type": "markdown",
   "id": "944efa5c",
   "metadata": {},
   "source": [
    "### 7.2 Group creator\n",
    "\n",
    "Next, you want to split your participants into groups. Groups are allocated based on the first letter of each participant's name: a group will only contain participants whose names start with the same letter. To help with this, you need to generate a dictionary. The dictionary will contain a key corresponding to each letter of the alphabet, where the values are lists of participants assigned to the group.\n",
    "\n",
    "For example, using the data above, you'd create a dictionary that included this key, value pair:\n",
    "```\n",
    "{ ..\n",
    "  'J' : [\"Jobe Wills\", \"June Rush\"],\n",
    "  ..\n",
    "}\n",
    "```\n",
    "\n",
    "You should use functional programming techniques to solve this problem. Some groups might be empty, or include only one person -- that's OK for this exercise."
   ]
  },
  {
   "cell_type": "code",
   "execution_count": 19,
   "id": "5bb16e04",
   "metadata": {},
   "outputs": [
    {
     "data": {
      "text/plain": [
       "{'A': ['Aisha Torres', 'Adeline Mcdougall'],\n",
       " 'B': [],\n",
       " 'C': ['Conal Delgado'],\n",
       " 'D': ['Dorian Foster'],\n",
       " 'E': [],\n",
       " 'F': [],\n",
       " 'G': [],\n",
       " 'H': ['Hester Macdonald'],\n",
       " 'I': [],\n",
       " 'J': ['Jobe Wills', 'June Rush'],\n",
       " 'K': [],\n",
       " 'L': ['Lola Delaney'],\n",
       " 'M': [],\n",
       " 'N': [],\n",
       " 'O': [],\n",
       " 'P': [],\n",
       " 'Q': [],\n",
       " 'R': [],\n",
       " 'S': ['Saim Bone'],\n",
       " 'T': [],\n",
       " 'U': [],\n",
       " 'V': [],\n",
       " 'W': ['Winifred John'],\n",
       " 'X': [],\n",
       " 'Y': []}"
      ]
     },
     "execution_count": 19,
     "metadata": {},
     "output_type": "execute_result"
    }
   ],
   "source": [
    "# My code:\n",
    "# This does not really use functional programming principles, will try it again separately.\n",
    "a = manage_participants_name(participants)\n",
    "def group_creator(list_of_participants):\n",
    "    group = {}\n",
    "    for i in range(65, 90):\n",
    "        group[chr(i)] = []\n",
    "    def add_partipant_to_group(name):\n",
    "        group[name[0]].append(name)\n",
    "    for participant in list_of_participants:\n",
    "        add_partipant_to_group(participant)\n",
    "    return group\n",
    "    \n",
    "group_creator(a)\n",
    "\n",
    "# Stephen's was different than this, and more simpler too. Will drop it in the official solutions."
   ]
  },
  {
   "cell_type": "markdown",
   "id": "806816a7",
   "metadata": {},
   "source": [
    "## Optional: 8. Number swap\n",
    "\n",
    "Write a function, `number_swap`, that takes two numbers, `a` and `b`. The function should swap digits in the first number with digits from the second, such that it generates the largest possible numbers. \n",
    "\n",
    "For example, `number_swap(6423, 551) == 6553`. Here, the 4 in the first number is swapped with a 5 from the second number. 2 in the first number is swapped for the other 5 in the second.\n",
    "\n",
    "Note: we're only allowed to use each digit in the second number at most once. \n",
    "\n",
    "_You do not need to use functional programming techniques to solve this problem._"
   ]
  },
  {
   "cell_type": "code",
   "execution_count": 17,
   "id": "b2aa7408",
   "metadata": {},
   "outputs": [
    {
     "name": "stdout",
     "output_type": "stream",
     "text": [
      "84422\n"
     ]
    }
   ],
   "source": [
    "# My code:\n",
    "# Apparently, the code I wrote below was for a different question to what was asked,\n",
    "# will leave this tho, and try that below\n",
    "def number_swap(a, b):\n",
    "    final_number = ''\n",
    "    checka = str(a)\n",
    "    checkb = str(b)\n",
    "    if len(checka) < len(checkb):\n",
    "        checka = str(b)\n",
    "        checkb = str(a)\n",
    "    check_a = 0\n",
    "    check_b = 0\n",
    "    while len(final_number) < len(checka):\n",
    "        if(int(checka[check_a]) > int(checkb[check_b])):\n",
    "            final_number += checka[check_a]\n",
    "            check_a += 1\n",
    "            continue\n",
    "        final_number += checkb[check_b]\n",
    "        check_a += 1\n",
    "        check_b += 1\n",
    "    return final_number\n",
    "\n",
    "# The correct one, maybe?\n",
    "def number_swap(a, b):\n",
    "    used_a = str(a)\n",
    "    used_b = str(b)\n",
    "    final_str = ''\n",
    "    if len(used_a) < len(used_b):\n",
    "        used_a = used_b\n",
    "        used_b = str(a)\n",
    "    used_b = sorted([int(char) for char in used_b], reverse=True)\n",
    "    for char in used_a:\n",
    "        if len(used_b) == 0:\n",
    "            final_str += char\n",
    "            continue\n",
    "        if int(char) < used_b[0]:\n",
    "            final_str += str(used_b[0])\n",
    "            del used_b[0]\n",
    "            continue\n",
    "        final_str += char\n",
    "    return int(final_str)\n",
    "print(number_swap(64221, 248))\n",
    "\n",
    "# Stephen's was so much different, will drop it in the official solution"
   ]
  }
 ],
 "metadata": {
  "kernelspec": {
   "display_name": "Python 3.10.5 64-bit",
   "language": "python",
   "name": "python3"
  },
  "language_info": {
   "codemirror_mode": {
    "name": "ipython",
    "version": 3
   },
   "file_extension": ".py",
   "mimetype": "text/x-python",
   "name": "python",
   "nbconvert_exporter": "python",
   "pygments_lexer": "ipython3",
   "version": "3.10.5"
  },
  "vscode": {
   "interpreter": {
    "hash": "2cc0af2f80ecdd84e6c7bc2e2c6407acdf9391592fb7830e0bbecf95f8fb2a46"
   }
  }
 },
 "nbformat": 4,
 "nbformat_minor": 5
}
