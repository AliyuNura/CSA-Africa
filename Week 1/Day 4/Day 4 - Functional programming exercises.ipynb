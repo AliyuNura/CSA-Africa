{
 "cells": [
  {
   "cell_type": "markdown",
   "id": "e81899e2",
   "metadata": {},
   "source": [
    "In today's exercises, we'll practice the material that was covered in this morning's lecture.\n",
    "\n",
    "Some problems at the end of the exercise notebook are marked as _optional_. Your progress on those problems won't be assessed: these problems have been provided as an additional challenge for people that have found the earlier problems straightforward."
   ]
  },
  {
   "cell_type": "markdown",
   "id": "aadb7cfa",
   "metadata": {},
   "source": [
    "## 1. Fix the names\n",
    "\n",
    "Write a function, `fix_names`, that takes a list of names, and returns the names properly formatted. A name is properly formatted if it has a capital letter at the beginning of each separate word.\n",
    "\n",
    "For example, if `names = [\"bob\", \"sofiat\", \"fionnuaLA\", \"aNgus\"]`, then `fix_names(names) == [\"Bob\", \"Sofiat\", \"Fionnuala\", \"Angus\"]`.\n",
    "\n",
    "You should use functional programming techniques to solve this problem."
   ]
  },
  {
   "cell_type": "code",
   "execution_count": null,
   "id": "b08deadc",
   "metadata": {},
   "outputs": [],
   "source": []
  },
  {
   "cell_type": "markdown",
   "id": "b961fb75",
   "metadata": {},
   "source": [
    "## 2. pi\n",
    "\n",
    "Write a function, `pi_to_n`, that returns a list of _n_ values of pi, with increasing numbers of decimal places, starting with 3.14.\n",
    "\n",
    "For example, `pi_to_n(3) == [3.14, 3.142, 3.1416]`.\n",
    "\n",
    "You should use functional programming techniques to solve this problem.\n",
    "\n",
    "_Hint: math.pi will give you the value of pi._"
   ]
  },
  {
   "cell_type": "code",
   "execution_count": null,
   "id": "bbd9ec5e",
   "metadata": {},
   "outputs": [],
   "source": []
  },
  {
   "cell_type": "markdown",
   "id": "6998e2a3",
   "metadata": {},
   "source": [
    "## 3. zip\n",
    "\n",
    "Write a function, `zip_the_lists`, that takes two lists, of the same length, and returns a single list, where each element is a tuple containing elements from the same position in each list.\n",
    "\n",
    "For example, `zip_the_lists([1, 2, 3], [4, 5, 6]) == [(1, 4), (2, 5), (3, 6)]`.\n",
    "\n",
    "You should use functional programming techniques to solve this problem."
   ]
  },
  {
   "cell_type": "code",
   "execution_count": null,
   "id": "f274e08d",
   "metadata": {},
   "outputs": [],
   "source": []
  },
  {
   "cell_type": "markdown",
   "id": "34afee26",
   "metadata": {},
   "source": [
    "## 4. Even numbers\n",
    "\n",
    "Write a program that prints the first 200 even numbers.\n",
    "\n",
    "You should use functional programming techniques to solve this problem."
   ]
  },
  {
   "cell_type": "code",
   "execution_count": null,
   "id": "ad137ab4",
   "metadata": {},
   "outputs": [],
   "source": []
  },
  {
   "cell_type": "markdown",
   "id": "728a12d9",
   "metadata": {},
   "source": [
    "## 5. Sum odd, sum even\n",
    "\n",
    "Write a function, `sum_odd_sum_even`, that takes a list of integers, and returns a tuple that contains two values. The first value should be the sum of all of the even numbers in the list, and the second value should be the sum of all of the odd numbers in the list.\n",
    "\n",
    "For example, `sum_odd_sum_even([5, 8, 32, 3, 2]) == (8, 42)`.\n",
    "\n",
    "You should use functional programming techniques to solve this problem."
   ]
  },
  {
   "cell_type": "code",
   "execution_count": null,
   "id": "4e920063",
   "metadata": {},
   "outputs": [],
   "source": []
  },
  {
   "cell_type": "markdown",
   "id": "a6fd44da",
   "metadata": {},
   "source": [
    "## 6. join\n",
    "\n",
    "Write a function, `join_the_strings`, that takes a list of strings and a character, and returns a single string that has joined the strings together, separated by the character.\n",
    "\n",
    "For example, `join_the_strings([\"hello\", \"my\", \"name\", \"is\", \"bob\"], '+') == \"hello+my+name+is+bob\"`.\n",
    "\n",
    "You should use functional programming techniques to solve this problem."
   ]
  },
  {
   "cell_type": "code",
   "execution_count": null,
   "id": "2be205b1",
   "metadata": {},
   "outputs": [],
   "source": []
  },
  {
   "cell_type": "markdown",
   "id": "34254557",
   "metadata": {},
   "source": [
    "## Optional: 7. Managing workshop participants\n",
    "\n",
    "Let's imagine that you've decided to host a workshop to teach Python. You've decided to store participant information in a list of dictionaries, structured like this:\n",
    "\n",
    "```\n",
    "participants = [{\"first_name\": \"Hester\", \"last_name\": \"Macdonald\", \"track\": 1},\n",
    "                {\"first_name\": \"Dorian\", \"last_name\": \"Foster\", \"track\": 2},\n",
    "                {\"first_name\": \"Conal\", \"last_name\": \"Delgado\", \"track\": 2},\n",
    "                {\"first_name\": \"Aisha\", \"last_name\": \"Torres\", \"track\": 2},\n",
    "                {\"first_name\": \"Adeline\", \"last_name\": \"Mcdougall\", \"track\": 1},\n",
    "                {\"first_name\": \"Lola\", \"last_name\": \"Delaney\", \"track\": 1},\n",
    "                {\"first_name\": \"Saim\", \"last_name\": \"Bone\", \"track\": 2},\n",
    "                {\"first_name\": \"Jobe\", \"last_name\": \"Wills\", \"track\": 1},\n",
    "                {\"first_name\": \"June\", \"last_name\": \"Rush\", \"track\": 2},\n",
    "                {\"first_name\": \"Winifred\", \"last_name\": \"John\", \"track\": 1}]\n",
    "```\n",
    "\n",
    "### 7.1 Mail merge\n",
    "\n",
    "You want to send a message to all of the participants. You want the message to include their full name. To do this, you need to generate a list of all of the participants full names. Write a function that does this, using functional programming techniques.\n",
    "\n",
    "For example, using the data above, you would produce this list: `[\"Hester Macdonald\", \"Dorian Foster\", \"Conal Delgado\", \"Aisha Torres\", \"Adeline Mcdougall\", \"Lola Delaney\", \"Saim Bone\", \"Jobe Wills\", \"June Rush\", \"Winifred John\"]`."
   ]
  },
  {
   "cell_type": "code",
   "execution_count": null,
   "id": "559d6c5b",
   "metadata": {},
   "outputs": [],
   "source": []
  },
  {
   "cell_type": "markdown",
   "id": "944efa5c",
   "metadata": {},
   "source": [
    "### 7.2 Group creator\n",
    "\n",
    "Next, you want to split your participants into groups. Groups are allocated based on the first letter of each participant's name: a group will only contain participants whose names start with the same letter. To help with this, you need to generate a dictionary. The dictionary will contain a key corresponding to each letter of the alphabet, where the values are lists of participants assigned to the group.\n",
    "\n",
    "For example, using the data above, you'd create a dictionary that included this key, value pair:\n",
    "```\n",
    "{ ..\n",
    "  'J' : [\"Jobe Wills\", \"June Rush\"],\n",
    "  ..\n",
    "}\n",
    "```\n",
    "\n",
    "You should use functional programming techniques to solve this problem. Some groups might be empty, or include only one person -- that's OK for this exercise."
   ]
  },
  {
   "cell_type": "code",
   "execution_count": null,
   "id": "5bb16e04",
   "metadata": {},
   "outputs": [],
   "source": []
  },
  {
   "cell_type": "markdown",
   "id": "806816a7",
   "metadata": {},
   "source": [
    "## Optional: 8. Number swap\n",
    "\n",
    "Write a function, `number_swap`, that takes two numbers, `a` and `b`. The function should swap digits in the first number with digits from the second, such that it generates the largest possible numbers. \n",
    "\n",
    "For example, `number_swap(6423, 551) == 6553`. Here, the 4 in the first number is swapped with a 5 from the second number. 2 in the first number is swapped for the other 5 in the second.\n",
    "\n",
    "Note: we're only allowed to use each digit in the second number at most once. \n",
    "\n",
    "_You do not need to use functional programming techniques to solve this problem._"
   ]
  },
  {
   "cell_type": "code",
   "execution_count": null,
   "id": "b2aa7408",
   "metadata": {},
   "outputs": [],
   "source": []
  }
 ],
 "metadata": {
  "kernelspec": {
   "display_name": "Python 3 (ipykernel)",
   "language": "python",
   "name": "python3"
  },
  "language_info": {
   "codemirror_mode": {
    "name": "ipython",
    "version": 3
   },
   "file_extension": ".py",
   "mimetype": "text/x-python",
   "name": "python",
   "nbconvert_exporter": "python",
   "pygments_lexer": "ipython3",
   "version": "3.8.12"
  }
 },
 "nbformat": 4,
 "nbformat_minor": 5
}
